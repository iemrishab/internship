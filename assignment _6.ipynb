{
 "cells": [
  {
   "cell_type": "code",
   "execution_count": 218,
   "id": "43d2bc0f",
   "metadata": {},
   "outputs": [
    {
     "name": "stdout",
     "output_type": "stream",
     "text": [
      "Requirement already satisfied: selenium in c:\\users\\user\\anaconda3\\lib\\site-packages (4.15.2)\n",
      "Requirement already satisfied: urllib3[socks]<3,>=1.26 in c:\\users\\user\\anaconda3\\lib\\site-packages (from selenium) (1.26.16)\n",
      "Requirement already satisfied: trio~=0.17 in c:\\users\\user\\anaconda3\\lib\\site-packages (from selenium) (0.23.1)\n",
      "Requirement already satisfied: trio-websocket~=0.9 in c:\\users\\user\\anaconda3\\lib\\site-packages (from selenium) (0.11.1)\n",
      "Requirement already satisfied: certifi>=2021.10.8 in c:\\users\\user\\anaconda3\\lib\\site-packages (from selenium) (2023.7.22)\n",
      "Requirement already satisfied: attrs>=20.1.0 in c:\\users\\user\\anaconda3\\lib\\site-packages (from trio~=0.17->selenium) (22.1.0)\n",
      "Requirement already satisfied: sortedcontainers in c:\\users\\user\\anaconda3\\lib\\site-packages (from trio~=0.17->selenium) (2.4.0)\n",
      "Requirement already satisfied: idna in c:\\users\\user\\anaconda3\\lib\\site-packages (from trio~=0.17->selenium) (3.4)\n",
      "Requirement already satisfied: outcome in c:\\users\\user\\anaconda3\\lib\\site-packages (from trio~=0.17->selenium) (1.3.0.post0)\n",
      "Requirement already satisfied: sniffio>=1.3.0 in c:\\users\\user\\anaconda3\\lib\\site-packages (from trio~=0.17->selenium) (1.3.0)\n",
      "Requirement already satisfied: cffi>=1.14 in c:\\users\\user\\anaconda3\\lib\\site-packages (from trio~=0.17->selenium) (1.15.1)\n",
      "Requirement already satisfied: wsproto>=0.14 in c:\\users\\user\\anaconda3\\lib\\site-packages (from trio-websocket~=0.9->selenium) (1.2.0)\n",
      "Requirement already satisfied: PySocks!=1.5.7,<2.0,>=1.5.6 in c:\\users\\user\\anaconda3\\lib\\site-packages (from urllib3[socks]<3,>=1.26->selenium) (1.7.1)\n",
      "Requirement already satisfied: pycparser in c:\\users\\user\\anaconda3\\lib\\site-packages (from cffi>=1.14->trio~=0.17->selenium) (2.21)\n",
      "Requirement already satisfied: h11<1,>=0.9.0 in c:\\users\\user\\anaconda3\\lib\\site-packages (from wsproto>=0.14->trio-websocket~=0.9->selenium) (0.14.0)\n"
     ]
    }
   ],
   "source": [
    "!pip install selenium"
   ]
  },
  {
   "cell_type": "code",
   "execution_count": 271,
   "id": "9eb57ea1",
   "metadata": {},
   "outputs": [],
   "source": [
    "import selenium\n",
    "import pandas as pd\n",
    "from selenium import webdriver\n",
    "import warnings\n",
    "warnings.filterwarnings('ignore')\n",
    "from selenium.webdriver.common.by import By\n",
    "import time"
   ]
  },
  {
   "cell_type": "code",
   "execution_count": null,
   "id": "d520e1c5",
   "metadata": {},
   "outputs": [],
   "source": [
    "#question1"
   ]
  },
  {
   "cell_type": "code",
   "execution_count": 188,
   "id": "5d377155",
   "metadata": {},
   "outputs": [],
   "source": [
    "driver=webdriver.Chrome()\n"
   ]
  },
  {
   "cell_type": "code",
   "execution_count": 5,
   "id": "bf4ff125",
   "metadata": {},
   "outputs": [],
   "source": [
    "driver.get('https://www.shine.com/')"
   ]
  },
  {
   "cell_type": "code",
   "execution_count": 11,
   "id": "c40ca114",
   "metadata": {},
   "outputs": [],
   "source": [
    "jobs1=driver.find_element(By.XPATH,'/html/body/div/div[4]/div/div[2]/div[2]/div/form/div/div[1]/ul/li[1]/div/input')\n",
    "jobs1.send_keys('Data Analyst')"
   ]
  },
  {
   "cell_type": "code",
   "execution_count": 12,
   "id": "1e800161",
   "metadata": {},
   "outputs": [],
   "source": [
    "location1=driver.find_element(By.XPATH,'/html/body/div/div[4]/div/div[2]/div[2]/div/form/div/div[1]/ul/li[2]/div/input')\n",
    "location1.send_keys('banglore')"
   ]
  },
  {
   "cell_type": "code",
   "execution_count": 23,
   "id": "c84de2c8",
   "metadata": {},
   "outputs": [],
   "source": [
    "search1=driver.find_element(By.XPATH,\" /html/body/div/div[4]/div/div[2]/div[2]/div/form/div/div[2]/div/button\")\n",
    "search1.click()"
   ]
  },
  {
   "cell_type": "code",
   "execution_count": 24,
   "id": "3dc2fcf1",
   "metadata": {},
   "outputs": [],
   "source": [
    "job_title=[]\n",
    "job_location=[]\n",
    "company_name=[]\n",
    "experience=[]"
   ]
  },
  {
   "cell_type": "code",
   "execution_count": 26,
   "id": "878bf926",
   "metadata": {},
   "outputs": [],
   "source": [
    "title1=driver.find_elements(By.XPATH,'//h2[@itemprop=\"name\"]')\n",
    "for i in title1:\n",
    "    job_title.append(i.text)"
   ]
  },
  {
   "cell_type": "code",
   "execution_count": 28,
   "id": "c40e5e26",
   "metadata": {},
   "outputs": [],
   "source": [
    "location=driver.find_elements(By.XPATH,'//div[@class=\" jobCard_jobCard_lists_item__YxRkV jobCard_locationIcon__zrWt2\"]')\n",
    "for i in location:\n",
    "    job_location.append(i.text)"
   ]
  },
  {
   "cell_type": "code",
   "execution_count": 29,
   "id": "48bdb5b9",
   "metadata": {},
   "outputs": [],
   "source": [
    "company=driver.find_elements(By.XPATH,'//div[@class=\"jobCard_jobCard_cName__mYnow\"]')\n",
    "for i in company:\n",
    "    company_name.append(i.text)"
   ]
  },
  {
   "cell_type": "code",
   "execution_count": 30,
   "id": "1f52072d",
   "metadata": {},
   "outputs": [],
   "source": [
    "experi=driver.find_elements(By.XPATH,'//div[@class=\" jobCard_jobCard_lists_item__YxRkV jobCard_jobIcon__3FB1t\"]')\n",
    "for i in experi:\n",
    "    experience.append(i.text)\n",
    "    "
   ]
  },
  {
   "cell_type": "code",
   "execution_count": 31,
   "id": "cd57d49b",
   "metadata": {},
   "outputs": [
    {
     "data": {
      "text/html": [
       "<div>\n",
       "<style scoped>\n",
       "    .dataframe tbody tr th:only-of-type {\n",
       "        vertical-align: middle;\n",
       "    }\n",
       "\n",
       "    .dataframe tbody tr th {\n",
       "        vertical-align: top;\n",
       "    }\n",
       "\n",
       "    .dataframe thead th {\n",
       "        text-align: right;\n",
       "    }\n",
       "</style>\n",
       "<table border=\"1\" class=\"dataframe\">\n",
       "  <thead>\n",
       "    <tr style=\"text-align: right;\">\n",
       "      <th></th>\n",
       "      <th>Job_title</th>\n",
       "      <th>Job_location</th>\n",
       "      <th>Company_name</th>\n",
       "      <th>Experience</th>\n",
       "    </tr>\n",
       "  </thead>\n",
       "  <tbody>\n",
       "    <tr>\n",
       "      <th>0</th>\n",
       "      <td>Marketing Data Analyst</td>\n",
       "      <td>Bangalore\\n+1</td>\n",
       "      <td>novel group</td>\n",
       "      <td>2 to 6 Yrs</td>\n",
       "    </tr>\n",
       "    <tr>\n",
       "      <th>1</th>\n",
       "      <td>Data Analyst Recruitment</td>\n",
       "      <td>Oman\\n+13</td>\n",
       "      <td>kavya interprises</td>\n",
       "      <td>0 to 4 Yrs</td>\n",
       "    </tr>\n",
       "    <tr>\n",
       "      <th>2</th>\n",
       "      <td>Data Analyst</td>\n",
       "      <td>Bangalore\\n+9</td>\n",
       "      <td>hire connect</td>\n",
       "      <td>0 to 1 Yr</td>\n",
       "    </tr>\n",
       "    <tr>\n",
       "      <th>3</th>\n",
       "      <td>Vacancy For Data Analyst</td>\n",
       "      <td>Oman\\n+13</td>\n",
       "      <td>kavya interprises</td>\n",
       "      <td>0 to 4 Yrs</td>\n",
       "    </tr>\n",
       "    <tr>\n",
       "      <th>4</th>\n",
       "      <td>Project Coordinator (Data Analyst) Bangalore</td>\n",
       "      <td>Bangalore</td>\n",
       "      <td>futures and careers</td>\n",
       "      <td>2 to 4 Yrs</td>\n",
       "    </tr>\n",
       "    <tr>\n",
       "      <th>5</th>\n",
       "      <td>Project Coordinator (Data analyst) Bangalore</td>\n",
       "      <td>Bangalore</td>\n",
       "      <td>futures and careers</td>\n",
       "      <td>2 to 4 Yrs</td>\n",
       "    </tr>\n",
       "    <tr>\n",
       "      <th>6</th>\n",
       "      <td>Business Data Analyst - Modeling &amp; Profiling</td>\n",
       "      <td>Bangalore</td>\n",
       "      <td>boyen haddin consulting and technol...</td>\n",
       "      <td>2 to 6 Yrs</td>\n",
       "    </tr>\n",
       "    <tr>\n",
       "      <th>7</th>\n",
       "      <td>Data analyst - Java / Python</td>\n",
       "      <td>Bangalore</td>\n",
       "      <td>boyen haddin consulting and technol...</td>\n",
       "      <td>5 to 10 Yrs</td>\n",
       "    </tr>\n",
       "    <tr>\n",
       "      <th>8</th>\n",
       "      <td>Data Analyst - Java/Python</td>\n",
       "      <td>Bangalore</td>\n",
       "      <td>boyen haddin consulting and technol...</td>\n",
       "      <td>2 to 6 Yrs</td>\n",
       "    </tr>\n",
       "    <tr>\n",
       "      <th>9</th>\n",
       "      <td>Data Analyst - SQL/ Database Maintenance</td>\n",
       "      <td>Bangalore</td>\n",
       "      <td>boyen haddin consulting and technol...</td>\n",
       "      <td>2 to 6 Yrs</td>\n",
       "    </tr>\n",
       "  </tbody>\n",
       "</table>\n",
       "</div>"
      ],
      "text/plain": [
       "                                      Job_title   Job_location  \\\n",
       "0                        Marketing Data Analyst  Bangalore\\n+1   \n",
       "1                      Data Analyst Recruitment      Oman\\n+13   \n",
       "2                                  Data Analyst  Bangalore\\n+9   \n",
       "3                      Vacancy For Data Analyst      Oman\\n+13   \n",
       "4  Project Coordinator (Data Analyst) Bangalore      Bangalore   \n",
       "5  Project Coordinator (Data analyst) Bangalore      Bangalore   \n",
       "6  Business Data Analyst - Modeling & Profiling      Bangalore   \n",
       "7                  Data analyst - Java / Python      Bangalore   \n",
       "8                    Data Analyst - Java/Python      Bangalore   \n",
       "9      Data Analyst - SQL/ Database Maintenance      Bangalore   \n",
       "\n",
       "                             Company_name   Experience  \n",
       "0                             novel group   2 to 6 Yrs  \n",
       "1                       kavya interprises   0 to 4 Yrs  \n",
       "2                            hire connect    0 to 1 Yr  \n",
       "3                       kavya interprises   0 to 4 Yrs  \n",
       "4                     futures and careers   2 to 4 Yrs  \n",
       "5                     futures and careers   2 to 4 Yrs  \n",
       "6  boyen haddin consulting and technol...   2 to 6 Yrs  \n",
       "7  boyen haddin consulting and technol...  5 to 10 Yrs  \n",
       "8  boyen haddin consulting and technol...   2 to 6 Yrs  \n",
       "9  boyen haddin consulting and technol...   2 to 6 Yrs  "
      ]
     },
     "execution_count": 31,
     "metadata": {},
     "output_type": "execute_result"
    }
   ],
   "source": [
    "df=pd.DataFrame({'Job_title':job_title[0:10],'Job_location':job_location[0:10],'Company_name':company_name[0:10],'Experience':experience[0:10]})\n",
    "df"
   ]
  },
  {
   "cell_type": "code",
   "execution_count": null,
   "id": "5f1136b1",
   "metadata": {},
   "outputs": [],
   "source": [
    "#QUESTION2\n"
   ]
  },
  {
   "cell_type": "code",
   "execution_count": 33,
   "id": "a588e251",
   "metadata": {},
   "outputs": [],
   "source": [
    "driver.get('https://www.shine.com/')"
   ]
  },
  {
   "cell_type": "code",
   "execution_count": 37,
   "id": "72f2b7db",
   "metadata": {},
   "outputs": [],
   "source": [
    "jobs_2=driver.find_element(By.XPATH,'/html/body/div/div[4]/div/div[2]/div[2]/div/form/div/div[1]/ul/li[1]/div/input')\n",
    "jobs_2.send_keys('Data Scientist')"
   ]
  },
  {
   "cell_type": "code",
   "execution_count": 38,
   "id": "cb37ac99",
   "metadata": {},
   "outputs": [],
   "source": [
    "location2=driver.find_element(By.XPATH,'/html/body/div/div[4]/div/div[2]/div[2]/div/form/div/div[1]/ul/li[2]/div/input')\n",
    "location2.send_keys('banglore')"
   ]
  },
  {
   "cell_type": "code",
   "execution_count": 40,
   "id": "402df4f0",
   "metadata": {},
   "outputs": [],
   "source": [
    "search2=driver.find_element(By.XPATH,'/html/body/div/div[4]/div/div[2]/div[2]/div/form/div/div[2]/div/button')\n",
    "search2.click()"
   ]
  },
  {
   "cell_type": "code",
   "execution_count": 42,
   "id": "727fac66",
   "metadata": {},
   "outputs": [],
   "source": [
    "job_title2=[]\n",
    "job_location2=[]\n",
    "company_name2=[]"
   ]
  },
  {
   "cell_type": "code",
   "execution_count": 43,
   "id": "74db6d66",
   "metadata": {},
   "outputs": [],
   "source": [
    "title2=driver.find_elements(By.XPATH,'//h2[@itemprop=\"name\"]')\n",
    "for i in title2:\n",
    "    job_title2.append(i.text)"
   ]
  },
  {
   "cell_type": "code",
   "execution_count": 44,
   "id": "b21f95cc",
   "metadata": {},
   "outputs": [],
   "source": [
    "location2=driver.find_elements(By.XPATH,'//div[@class=\" jobCard_jobCard_lists_item__YxRkV jobCard_locationIcon__zrWt2\"]')\n",
    "for i in location2:\n",
    "    job_location2.append(i.text)"
   ]
  },
  {
   "cell_type": "code",
   "execution_count": 46,
   "id": "b6092c6a",
   "metadata": {},
   "outputs": [],
   "source": [
    "company2=driver.find_elements(By.XPATH,'//div[@class=\"jobCard_jobCard_cName__mYnow\"]')\n",
    "for i in company2:\n",
    "    company_name2.append(i.text)\n",
    "    "
   ]
  },
  {
   "cell_type": "code",
   "execution_count": 47,
   "id": "61af560d",
   "metadata": {},
   "outputs": [
    {
     "data": {
      "text/html": [
       "<div>\n",
       "<style scoped>\n",
       "    .dataframe tbody tr th:only-of-type {\n",
       "        vertical-align: middle;\n",
       "    }\n",
       "\n",
       "    .dataframe tbody tr th {\n",
       "        vertical-align: top;\n",
       "    }\n",
       "\n",
       "    .dataframe thead th {\n",
       "        text-align: right;\n",
       "    }\n",
       "</style>\n",
       "<table border=\"1\" class=\"dataframe\">\n",
       "  <thead>\n",
       "    <tr style=\"text-align: right;\">\n",
       "      <th></th>\n",
       "      <th>Job_title</th>\n",
       "      <th>Job_Location</th>\n",
       "      <th>Company_name</th>\n",
       "    </tr>\n",
       "  </thead>\n",
       "  <tbody>\n",
       "    <tr>\n",
       "      <th>0</th>\n",
       "      <td>Data scientist</td>\n",
       "      <td>Gurugram\\n+8</td>\n",
       "      <td>capgemini technology services india...</td>\n",
       "    </tr>\n",
       "    <tr>\n",
       "      <th>1</th>\n",
       "      <td>Data Scientist - Business Intelligence</td>\n",
       "      <td>Bangalore</td>\n",
       "      <td>boyen haddin consulting and technol...</td>\n",
       "    </tr>\n",
       "    <tr>\n",
       "      <th>2</th>\n",
       "      <td>Data Scientist for Bangalore</td>\n",
       "      <td>Bangalore</td>\n",
       "      <td>get hired</td>\n",
       "    </tr>\n",
       "    <tr>\n",
       "      <th>3</th>\n",
       "      <td>Data Scientist - Spark/Python/Redshift</td>\n",
       "      <td>Bangalore</td>\n",
       "      <td>boyen haddin consulting and technol...</td>\n",
       "    </tr>\n",
       "    <tr>\n",
       "      <th>4</th>\n",
       "      <td>Data Scientist - Machine Learning</td>\n",
       "      <td>Bangalore</td>\n",
       "      <td>boyen haddin consulting and technol...</td>\n",
       "    </tr>\n",
       "    <tr>\n",
       "      <th>5</th>\n",
       "      <td>Hiring For Data Scientist</td>\n",
       "      <td>Oman\\n+13</td>\n",
       "      <td>kavya interprises</td>\n",
       "    </tr>\n",
       "    <tr>\n",
       "      <th>6</th>\n",
       "      <td>Hiring For Data Scientist</td>\n",
       "      <td>Oman\\n+13</td>\n",
       "      <td>kavya interprises</td>\n",
       "    </tr>\n",
       "    <tr>\n",
       "      <th>7</th>\n",
       "      <td>Data Scientist</td>\n",
       "      <td>Bangalore</td>\n",
       "      <td>ibm india pvt. limited</td>\n",
       "    </tr>\n",
       "    <tr>\n",
       "      <th>8</th>\n",
       "      <td>Data Scientist- Associate</td>\n",
       "      <td>Bangalore</td>\n",
       "      <td>jpmorgan</td>\n",
       "    </tr>\n",
       "    <tr>\n",
       "      <th>9</th>\n",
       "      <td>Data Scientist Vacancy</td>\n",
       "      <td>Oman\\n+14</td>\n",
       "      <td>divya interprises</td>\n",
       "    </tr>\n",
       "  </tbody>\n",
       "</table>\n",
       "</div>"
      ],
      "text/plain": [
       "                                Job_title  Job_Location  \\\n",
       "0                          Data scientist  Gurugram\\n+8   \n",
       "1  Data Scientist - Business Intelligence     Bangalore   \n",
       "2            Data Scientist for Bangalore     Bangalore   \n",
       "3  Data Scientist - Spark/Python/Redshift     Bangalore   \n",
       "4       Data Scientist - Machine Learning     Bangalore   \n",
       "5               Hiring For Data Scientist     Oman\\n+13   \n",
       "6               Hiring For Data Scientist     Oman\\n+13   \n",
       "7                          Data Scientist     Bangalore   \n",
       "8               Data Scientist- Associate     Bangalore   \n",
       "9                  Data Scientist Vacancy     Oman\\n+14   \n",
       "\n",
       "                             Company_name  \n",
       "0  capgemini technology services india...  \n",
       "1  boyen haddin consulting and technol...  \n",
       "2                               get hired  \n",
       "3  boyen haddin consulting and technol...  \n",
       "4  boyen haddin consulting and technol...  \n",
       "5                       kavya interprises  \n",
       "6                       kavya interprises  \n",
       "7                  ibm india pvt. limited  \n",
       "8                                jpmorgan  \n",
       "9                       divya interprises  "
      ]
     },
     "execution_count": 47,
     "metadata": {},
     "output_type": "execute_result"
    }
   ],
   "source": [
    "df2=pd.DataFrame({'Job_title':job_title2[0:10],'Job_Location':job_location2[0:10],'Company_name':company_name2[0:10]})\n",
    "df2"
   ]
  },
  {
   "cell_type": "code",
   "execution_count": null,
   "id": "098d17e3",
   "metadata": {},
   "outputs": [],
   "source": [
    "#QUESTION3"
   ]
  },
  {
   "cell_type": "code",
   "execution_count": 59,
   "id": "384821ca",
   "metadata": {},
   "outputs": [],
   "source": [
    "driver.get('https://www.shine.com/')"
   ]
  },
  {
   "cell_type": "code",
   "execution_count": 62,
   "id": "285c3fe6",
   "metadata": {},
   "outputs": [],
   "source": [
    "job3=driver.find_element(By.XPATH,'/html/body/div/div[4]/div/div[2]/div[2]/div/form/div/div[1]/ul/li[1]/div/input')\n",
    "job3.send_keys('Data Scientist')"
   ]
  },
  {
   "cell_type": "code",
   "execution_count": 64,
   "id": "1eebab85",
   "metadata": {},
   "outputs": [],
   "source": [
    "search3=driver.find_element(By.XPATH,'/html/body/div/div[4]/div/div[2]/div[2]/div/form/div/div[2]/div/button')\n",
    "search3.click()"
   ]
  },
  {
   "cell_type": "code",
   "execution_count": 65,
   "id": "37911e71",
   "metadata": {},
   "outputs": [],
   "source": [
    "location3=driver.find_element(By.XPATH,'/html/body/div[1]/div[1]/div[3]/div/div[1]/div/div[2]/div/ul/li[1]/button')\n",
    "location3.click()"
   ]
  },
  {
   "cell_type": "code",
   "execution_count": 66,
   "id": "9a294532",
   "metadata": {},
   "outputs": [],
   "source": [
    "location4=driver.find_element(By.XPATH,'/html/body/div[1]/div[1]/div[3]/div/div[1]/div/div[2]/div[2]/div/div/div/div[3]/div/div/div/ul/li[13]/span/label')\n",
    "location4.click()"
   ]
  },
  {
   "cell_type": "code",
   "execution_count": 67,
   "id": "9051d052",
   "metadata": {},
   "outputs": [],
   "source": [
    "location5=driver.find_element(By.XPATH,'/html/body/div[1]/div[1]/div[3]/div/div[1]/div/div[2]/div[2]/div/div/div/div[4]/button[2]')\n",
    "location5.click()"
   ]
  },
  {
   "cell_type": "code",
   "execution_count": 68,
   "id": "294c4b01",
   "metadata": {},
   "outputs": [],
   "source": [
    "salary=driver.find_element(By.XPATH,'/html/body/div[1]/div[1]/div[3]/div/div[1]/div/div[2]/div/ul/li[3]/button')\n",
    "salary.click()"
   ]
  },
  {
   "cell_type": "code",
   "execution_count": 69,
   "id": "5c37d061",
   "metadata": {},
   "outputs": [],
   "source": [
    "salary1=driver.find_element(By.XPATH,'/html/body/div[1]/div[1]/div[3]/div/div[1]/div/div[2]/div[2]/div/div/div/div[3]/div/div/div/ul/li[3]/span/label')\n",
    "salary1.click()"
   ]
  },
  {
   "cell_type": "code",
   "execution_count": 71,
   "id": "1989ceeb",
   "metadata": {},
   "outputs": [],
   "source": [
    "salary2=driver.find_element(By.XPATH,'/html/body/div[1]/div[1]/div[3]/div/div[1]/div/div[2]/div[2]/div/div/div/div[3]/div/div/div/ul/li[3]/span/label')\n",
    "salary2.click()"
   ]
  },
  {
   "cell_type": "code",
   "execution_count": 72,
   "id": "8dc25dce",
   "metadata": {},
   "outputs": [],
   "source": [
    "salary3=driver.find_element(By.XPATH,'/html/body/div[1]/div[1]/div[3]/div/div[1]/div/div[2]/div[2]/div/div/div/div[4]/button[2]')\n",
    "salary3.click()"
   ]
  },
  {
   "cell_type": "code",
   "execution_count": 73,
   "id": "49f827b1",
   "metadata": {},
   "outputs": [],
   "source": [
    "job_Title=[]\n",
    "job_Location=[]\n",
    "company_Name=[]\n",
    "Experience_required=[]"
   ]
  },
  {
   "cell_type": "code",
   "execution_count": 74,
   "id": "0467bd94",
   "metadata": {},
   "outputs": [],
   "source": [
    "title3=driver.find_elements(By.XPATH,'//h2[@itemprop=\"name\"]')\n",
    "for i in title3:\n",
    "    job_Title.append(i.text)"
   ]
  },
  {
   "cell_type": "code",
   "execution_count": 75,
   "id": "238268cf",
   "metadata": {},
   "outputs": [],
   "source": [
    "location3=driver.find_elements(By.XPATH,'//div[@class=\" jobCard_jobCard_lists_item__YxRkV jobCard_locationIcon__zrWt2\"]')\n",
    "for i in location3:\n",
    "    job_Location.append(i.text)"
   ]
  },
  {
   "cell_type": "code",
   "execution_count": 76,
   "id": "88b6c284",
   "metadata": {},
   "outputs": [],
   "source": [
    "company3=driver.find_elements(By.XPATH,'//div[@class=\"jobCard_jobCard_cName__mYnow\"]')\n",
    "for i in company3:\n",
    "    company_Name.append(i.text)"
   ]
  },
  {
   "cell_type": "code",
   "execution_count": 77,
   "id": "fbf88b80",
   "metadata": {},
   "outputs": [],
   "source": [
    "experience3=driver.find_elements(By.XPATH,'//div[@class=\" jobCard_jobCard_lists_item__YxRkV jobCard_jobIcon__3FB1t\"]')\n",
    "for i in experience3:\n",
    "    Experience_required.append(i.text)"
   ]
  },
  {
   "cell_type": "code",
   "execution_count": 78,
   "id": "773b9209",
   "metadata": {},
   "outputs": [
    {
     "data": {
      "text/html": [
       "<div>\n",
       "<style scoped>\n",
       "    .dataframe tbody tr th:only-of-type {\n",
       "        vertical-align: middle;\n",
       "    }\n",
       "\n",
       "    .dataframe tbody tr th {\n",
       "        vertical-align: top;\n",
       "    }\n",
       "\n",
       "    .dataframe thead th {\n",
       "        text-align: right;\n",
       "    }\n",
       "</style>\n",
       "<table border=\"1\" class=\"dataframe\">\n",
       "  <thead>\n",
       "    <tr style=\"text-align: right;\">\n",
       "      <th></th>\n",
       "      <th>JOB_TITLE</th>\n",
       "      <th>JOB_LOCATION</th>\n",
       "      <th>COMPANY_NAME</th>\n",
       "      <th>EXPERIENCE_REQUIRED</th>\n",
       "    </tr>\n",
       "  </thead>\n",
       "  <tbody>\n",
       "    <tr>\n",
       "      <th>0</th>\n",
       "      <td>Data Scientist for Delhi</td>\n",
       "      <td>Delhi</td>\n",
       "      <td>get hired</td>\n",
       "      <td>0 to 3 Yrs</td>\n",
       "    </tr>\n",
       "    <tr>\n",
       "      <th>1</th>\n",
       "      <td>Data Scientist- Delhi</td>\n",
       "      <td>Delhi</td>\n",
       "      <td>the fashion cosmo</td>\n",
       "      <td>0 to 3 Yrs</td>\n",
       "    </tr>\n",
       "    <tr>\n",
       "      <th>2</th>\n",
       "      <td>Data Scientist-Delhi</td>\n",
       "      <td>Delhi</td>\n",
       "      <td>shiva hr services</td>\n",
       "      <td>0 to 3 Yrs</td>\n",
       "    </tr>\n",
       "    <tr>\n",
       "      <th>3</th>\n",
       "      <td>Clinical Data Management</td>\n",
       "      <td>Delhi\\n+6</td>\n",
       "      <td>techno endura</td>\n",
       "      <td>0 to 1 Yr</td>\n",
       "    </tr>\n",
       "    <tr>\n",
       "      <th>4</th>\n",
       "      <td>Data Scientist- Delhi</td>\n",
       "      <td>Delhi</td>\n",
       "      <td>the fashion cosmo</td>\n",
       "      <td>0 to 3 Yrs</td>\n",
       "    </tr>\n",
       "    <tr>\n",
       "      <th>5</th>\n",
       "      <td>Data Scientist- Delhi</td>\n",
       "      <td>Delhi</td>\n",
       "      <td>the fashion cosmo</td>\n",
       "      <td>0 to 3 Yrs</td>\n",
       "    </tr>\n",
       "    <tr>\n",
       "      <th>6</th>\n",
       "      <td>Data Engineer</td>\n",
       "      <td>Delhi</td>\n",
       "      <td>employberry consultants</td>\n",
       "      <td>4 to 6 Yrs</td>\n",
       "    </tr>\n",
       "    <tr>\n",
       "      <th>7</th>\n",
       "      <td>Clinical Data Manager</td>\n",
       "      <td>Delhi\\n+6</td>\n",
       "      <td>techno endura</td>\n",
       "      <td>0 to 1 Yr</td>\n",
       "    </tr>\n",
       "    <tr>\n",
       "      <th>8</th>\n",
       "      <td>Work Full/part-time / Work From Home / Compute...</td>\n",
       "      <td>Delhi\\n+4</td>\n",
       "      <td>desnor destination pvt. ltd.</td>\n",
       "      <td>0 to 4 Yrs</td>\n",
       "    </tr>\n",
       "    <tr>\n",
       "      <th>9</th>\n",
       "      <td>Typing Work-Data Entry-Computer Operator-Freel...</td>\n",
       "      <td>Delhi\\n+4</td>\n",
       "      <td>desnor destination pvt. ltd.</td>\n",
       "      <td>0 to 4 Yrs</td>\n",
       "    </tr>\n",
       "  </tbody>\n",
       "</table>\n",
       "</div>"
      ],
      "text/plain": [
       "                                           JOB_TITLE JOB_LOCATION  \\\n",
       "0                           Data Scientist for Delhi        Delhi   \n",
       "1                              Data Scientist- Delhi        Delhi   \n",
       "2                               Data Scientist-Delhi        Delhi   \n",
       "3                           Clinical Data Management    Delhi\\n+6   \n",
       "4                              Data Scientist- Delhi        Delhi   \n",
       "5                              Data Scientist- Delhi        Delhi   \n",
       "6                                      Data Engineer        Delhi   \n",
       "7                              Clinical Data Manager    Delhi\\n+6   \n",
       "8  Work Full/part-time / Work From Home / Compute...    Delhi\\n+4   \n",
       "9  Typing Work-Data Entry-Computer Operator-Freel...    Delhi\\n+4   \n",
       "\n",
       "                   COMPANY_NAME EXPERIENCE_REQUIRED  \n",
       "0                     get hired          0 to 3 Yrs  \n",
       "1             the fashion cosmo          0 to 3 Yrs  \n",
       "2             shiva hr services          0 to 3 Yrs  \n",
       "3                 techno endura           0 to 1 Yr  \n",
       "4             the fashion cosmo          0 to 3 Yrs  \n",
       "5             the fashion cosmo          0 to 3 Yrs  \n",
       "6       employberry consultants          4 to 6 Yrs  \n",
       "7                 techno endura           0 to 1 Yr  \n",
       "8  desnor destination pvt. ltd.          0 to 4 Yrs  \n",
       "9  desnor destination pvt. ltd.          0 to 4 Yrs  "
      ]
     },
     "execution_count": 78,
     "metadata": {},
     "output_type": "execute_result"
    }
   ],
   "source": [
    "df3=pd.DataFrame({'JOB_TITLE':job_Title[0:10],'JOB_LOCATION':job_Location[0:10],'COMPANY_NAME':company_Name[0:10],'EXPERIENCE_REQUIRED':Experience_required[0:10]})\n",
    "df3"
   ]
  },
  {
   "cell_type": "code",
   "execution_count": null,
   "id": "7ec828e9",
   "metadata": {},
   "outputs": [],
   "source": [
    "#QUESTION5"
   ]
  },
  {
   "cell_type": "code",
   "execution_count": 326,
   "id": "d72f9ee2",
   "metadata": {},
   "outputs": [],
   "source": [
    "driver=webdriver.Chrome()"
   ]
  },
  {
   "cell_type": "code",
   "execution_count": 327,
   "id": "3cafe613",
   "metadata": {},
   "outputs": [],
   "source": [
    "driver.get('https://www.flipkart.com/apple-iphone-11-black-64-gb/product-reviews/itm4e5041ba101fd?pid=MOBFWQ6BXGJCEYNY&lid=LSTMOBFWQ6BXGJCEYNYZXSHRJ&market')"
   ]
  },
  {
   "cell_type": "code",
   "execution_count": 328,
   "id": "13c7d57d",
   "metadata": {},
   "outputs": [],
   "source": [
    "rating11=[]\n",
    "review=[]\n",
    "Full_review=[]"
   ]
  },
  {
   "cell_type": "code",
   "execution_count": 330,
   "id": "54cff4fa",
   "metadata": {},
   "outputs": [],
   "source": [
    "for page in range(0,10):\n",
    "    rating_511=driver.find_elements(By.XPATH,'//div[@class=\"col _2wzgFH K0kLPL\"]/div[1]/div[1]')\n",
    "    for i in rating_511:\n",
    "        rating11.append(i.text)\n",
    "        \n",
    "    page_next=driver.find_element(By.CLASS_NAME,\"yFHi8N\")\n",
    "    page_next.click()\n",
    "    time.sleep(3)"
   ]
  },
  {
   "cell_type": "code",
   "execution_count": 331,
   "id": "8d065286",
   "metadata": {},
   "outputs": [],
   "source": [
    "for page in range(0,10):\n",
    "    review23=driver.find_elements(By.XPATH,'//p[@class=\"_2-N8zT\"]')\n",
    "    for i in review23:\n",
    "        review.append(i.text)\n",
    "    page_next=driver.find_element(By.CLASS_NAME,\"yFHi8N\")\n",
    "    page_next.click()\n",
    "    time.sleep(3)"
   ]
  },
  {
   "cell_type": "code",
   "execution_count": 332,
   "id": "341d9184",
   "metadata": {},
   "outputs": [],
   "source": [
    "for page in range(0,10):\n",
    "    full_=driver.find_elements(By.XPATH,'//div[@class=\"t-ZTKy\"]')\n",
    "    for i in full_:\n",
    "        Full_review.append(i.text)\n",
    "    page_next=driver.find_element(By.CLASS_NAME,\"yFHi8N\")\n",
    "    page_next.click()\n",
    "    time.sleep(3)"
   ]
  },
  {
   "cell_type": "code",
   "execution_count": 333,
   "id": "ec1834be",
   "metadata": {},
   "outputs": [
    {
     "data": {
      "text/plain": [
       "(100, 100, 100)"
      ]
     },
     "execution_count": 333,
     "metadata": {},
     "output_type": "execute_result"
    }
   ],
   "source": [
    "len(rating11),len(review),len(Full_review)"
   ]
  },
  {
   "cell_type": "code",
   "execution_count": 340,
   "id": "8bdd9afb",
   "metadata": {},
   "outputs": [
    {
     "ename": "TypeError",
     "evalue": "'dict' object is not callable",
     "output_type": "error",
     "traceback": [
      "\u001b[1;31m---------------------------------------------------------------------------\u001b[0m",
      "\u001b[1;31mTypeError\u001b[0m                                 Traceback (most recent call last)",
      "Cell \u001b[1;32mIn[340], line 1\u001b[0m\n\u001b[1;32m----> 1\u001b[0m df\u001b[38;5;241m=\u001b[39mpd\u001b[38;5;241m.\u001b[39mDataFrame({\u001b[38;5;124m'\u001b[39m\u001b[38;5;124mRating\u001b[39m\u001b[38;5;124m'\u001b[39m:review,\u001b[38;5;124m'\u001b[39m\u001b[38;5;124mReview\u001b[39m\u001b[38;5;124m'\u001b[39m:rating11})\n\u001b[0;32m      2\u001b[0m df\n",
      "\u001b[1;31mTypeError\u001b[0m: 'dict' object is not callable"
     ]
    }
   ],
   "source": [
    "df=pd.DataFrame({'Rating':review,'Review':rating11})\n",
    "df"
   ]
  },
  {
   "cell_type": "code",
   "execution_count": null,
   "id": "92de11d6",
   "metadata": {},
   "outputs": [],
   "source": []
  },
  {
   "cell_type": "code",
   "execution_count": null,
   "id": "3213d4dc",
   "metadata": {},
   "outputs": [],
   "source": []
  },
  {
   "cell_type": "code",
   "execution_count": null,
   "id": "c5d918a9",
   "metadata": {},
   "outputs": [],
   "source": []
  },
  {
   "cell_type": "code",
   "execution_count": null,
   "id": "bad30602",
   "metadata": {},
   "outputs": [],
   "source": []
  }
 ],
 "metadata": {
  "kernelspec": {
   "display_name": "Python 3 (ipykernel)",
   "language": "python",
   "name": "python3"
  },
  "language_info": {
   "codemirror_mode": {
    "name": "ipython",
    "version": 3
   },
   "file_extension": ".py",
   "mimetype": "text/x-python",
   "name": "python",
   "nbconvert_exporter": "python",
   "pygments_lexer": "ipython3",
   "version": "3.11.5"
  }
 },
 "nbformat": 4,
 "nbformat_minor": 5
}
