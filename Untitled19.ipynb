{
 "cells": [
  {
   "cell_type": "code",
   "execution_count": 1,
   "id": "128fa844",
   "metadata": {},
   "outputs": [
    {
     "name": "stdout",
     "output_type": "stream",
     "text": [
      "Requirement already satisfied: selenium in c:\\users\\user\\anaconda3\\lib\\site-packages (4.15.2)\n",
      "Requirement already satisfied: urllib3[socks]<3,>=1.26 in c:\\users\\user\\anaconda3\\lib\\site-packages (from selenium) (1.26.16)\n",
      "Requirement already satisfied: trio~=0.17 in c:\\users\\user\\anaconda3\\lib\\site-packages (from selenium) (0.23.1)\n",
      "Requirement already satisfied: trio-websocket~=0.9 in c:\\users\\user\\anaconda3\\lib\\site-packages (from selenium) (0.11.1)\n",
      "Requirement already satisfied: certifi>=2021.10.8 in c:\\users\\user\\anaconda3\\lib\\site-packages (from selenium) (2023.7.22)\n",
      "Requirement already satisfied: attrs>=20.1.0 in c:\\users\\user\\anaconda3\\lib\\site-packages (from trio~=0.17->selenium) (22.1.0)\n",
      "Requirement already satisfied: sortedcontainers in c:\\users\\user\\anaconda3\\lib\\site-packages (from trio~=0.17->selenium) (2.4.0)\n",
      "Requirement already satisfied: idna in c:\\users\\user\\anaconda3\\lib\\site-packages (from trio~=0.17->selenium) (3.4)\n",
      "Requirement already satisfied: outcome in c:\\users\\user\\anaconda3\\lib\\site-packages (from trio~=0.17->selenium) (1.3.0.post0)\n",
      "Requirement already satisfied: sniffio>=1.3.0 in c:\\users\\user\\anaconda3\\lib\\site-packages (from trio~=0.17->selenium) (1.3.0)\n",
      "Requirement already satisfied: cffi>=1.14 in c:\\users\\user\\anaconda3\\lib\\site-packages (from trio~=0.17->selenium) (1.15.1)\n",
      "Requirement already satisfied: wsproto>=0.14 in c:\\users\\user\\anaconda3\\lib\\site-packages (from trio-websocket~=0.9->selenium) (1.2.0)\n",
      "Requirement already satisfied: PySocks!=1.5.7,<2.0,>=1.5.6 in c:\\users\\user\\anaconda3\\lib\\site-packages (from urllib3[socks]<3,>=1.26->selenium) (1.7.1)\n",
      "Requirement already satisfied: pycparser in c:\\users\\user\\anaconda3\\lib\\site-packages (from cffi>=1.14->trio~=0.17->selenium) (2.21)\n",
      "Requirement already satisfied: h11<1,>=0.9.0 in c:\\users\\user\\anaconda3\\lib\\site-packages (from wsproto>=0.14->trio-websocket~=0.9->selenium) (0.14.0)\n"
     ]
    }
   ],
   "source": [
    "!pip install selenium"
   ]
  },
  {
   "cell_type": "code",
   "execution_count": 54,
   "id": "46a7b946",
   "metadata": {},
   "outputs": [],
   "source": [
    "import selenium\n",
    "import pandas as pd\n",
    "import numpy as np\n",
    "from selenium import webdriver\n",
    "import warnings\n",
    "warnings.filterwarnings('ignore')\n",
    "from selenium.webdriver.common.by import By\n",
    "import time"
   ]
  },
  {
   "cell_type": "code",
   "execution_count": 8,
   "id": "be4f7b18",
   "metadata": {},
   "outputs": [],
   "source": [
    "driver=webdriver.Chrome()"
   ]
  },
  {
   "cell_type": "code",
   "execution_count": 9,
   "id": "ce77a32d",
   "metadata": {},
   "outputs": [],
   "source": [
    "driver.get('https://en.wikipedia.org/wiki/List_of_most-viewed_YouTube_videos')"
   ]
  },
  {
   "cell_type": "code",
   "execution_count": 10,
   "id": "29c604ef",
   "metadata": {},
   "outputs": [],
   "source": [
    "Name=[]\n",
    "Artist=[]\n",
    "Upload_date=[]\n",
    "Views=[]"
   ]
  },
  {
   "cell_type": "code",
   "execution_count": 11,
   "id": "d70e2eb5",
   "metadata": {},
   "outputs": [],
   "source": [
    "name=driver.find_elements(By.XPATH,'//a[@title=\"Baby Shark\"]')\n",
    "for i in name:\n",
    "    Name.append(i.get_attribute('href'))"
   ]
  },
  {
   "cell_type": "code",
   "execution_count": 12,
   "id": "47cfddcd",
   "metadata": {},
   "outputs": [
    {
     "data": {
      "text/plain": [
       "3"
      ]
     },
     "execution_count": 12,
     "metadata": {},
     "output_type": "execute_result"
    }
   ],
   "source": [
    "len(Name)"
   ]
  },
  {
   "cell_type": "code",
   "execution_count": null,
   "id": "a2fa2ac7",
   "metadata": {},
   "outputs": [],
   "source": []
  },
  {
   "cell_type": "code",
   "execution_count": null,
   "id": "5ad4b250",
   "metadata": {},
   "outputs": [],
   "source": [
    "#Question-2"
   ]
  },
  {
   "cell_type": "code",
   "execution_count": 13,
   "id": "195a1dc0",
   "metadata": {},
   "outputs": [],
   "source": [
    "driver=webdriver.Chrome()"
   ]
  },
  {
   "cell_type": "code",
   "execution_count": 14,
   "id": "7d0a234c",
   "metadata": {},
   "outputs": [],
   "source": [
    "driver.get('https://www.bcci.tv/')"
   ]
  },
  {
   "cell_type": "code",
   "execution_count": 15,
   "id": "91c42cef",
   "metadata": {},
   "outputs": [],
   "source": [
    "search=driver.find_element(By.XPATH,'/html/body/div[6]/div/div/div[2]/div/div[2]/div/div[1]/div[1]/a')\n",
    "search.click()\n"
   ]
  },
  {
   "cell_type": "code",
   "execution_count": 16,
   "id": "fa00dbdb",
   "metadata": {},
   "outputs": [],
   "source": [
    "search1=driver.find_element(By.XPATH,'/html/body/section/div/div/div/div/div/div[2]/div[2]/div[2]/div/button')\n",
    "search1.click()"
   ]
  },
  {
   "cell_type": "code",
   "execution_count": 17,
   "id": "bc225da7",
   "metadata": {},
   "outputs": [],
   "source": [
    "Series=[]\n",
    "Place=[]\n",
    "Date=[]\n",
    "Time=[]"
   ]
  },
  {
   "cell_type": "code",
   "execution_count": 18,
   "id": "0b2e2340",
   "metadata": {},
   "outputs": [],
   "source": [
    "matches=driver.find_elements(By.XPATH,'//h5[@class=\"match-tournament-name ng-binding\"]')\n",
    "for mat in matches:\n",
    "    Series.append(mat.text)"
   ]
  },
  {
   "cell_type": "code",
   "execution_count": 20,
   "id": "1f65fc4b",
   "metadata": {},
   "outputs": [],
   "source": [
    "places=driver.find_elements(By.XPATH,'//div[@class=\"match-place ng-scope\"]')\n",
    "for pla in places:\n",
    "    Place.append(pla.text)"
   ]
  },
  {
   "cell_type": "code",
   "execution_count": 21,
   "id": "54d88fef",
   "metadata": {},
   "outputs": [],
   "source": [
    "date=driver.find_elements(By.XPATH,'//div[@class=\"match-dates ng-binding\"]')\n",
    "for dat in date:\n",
    "    Date.append(dat.text)"
   ]
  },
  {
   "cell_type": "code",
   "execution_count": 23,
   "id": "c04c22df",
   "metadata": {},
   "outputs": [],
   "source": [
    "time=driver.find_elements(By.XPATH,'//div[@class=\"match-time no-margin ng-binding\"]')\n",
    "for tim in time:\n",
    "    Time.append(tim.text)"
   ]
  },
  {
   "cell_type": "code",
   "execution_count": 26,
   "id": "5472ae27",
   "metadata": {},
   "outputs": [
    {
     "data": {
      "text/plain": [
       "(16, 16, 16, 15)"
      ]
     },
     "execution_count": 26,
     "metadata": {},
     "output_type": "execute_result"
    }
   ],
   "source": [
    "len(Series),len(Time),len(Date),len(Place)"
   ]
  },
  {
   "cell_type": "code",
   "execution_count": 28,
   "id": "f98a7042",
   "metadata": {},
   "outputs": [
    {
     "data": {
      "text/html": [
       "<div>\n",
       "<style scoped>\n",
       "    .dataframe tbody tr th:only-of-type {\n",
       "        vertical-align: middle;\n",
       "    }\n",
       "\n",
       "    .dataframe tbody tr th {\n",
       "        vertical-align: top;\n",
       "    }\n",
       "\n",
       "    .dataframe thead th {\n",
       "        text-align: right;\n",
       "    }\n",
       "</style>\n",
       "<table border=\"1\" class=\"dataframe\">\n",
       "  <thead>\n",
       "    <tr style=\"text-align: right;\">\n",
       "      <th></th>\n",
       "      <th>series</th>\n",
       "      <th>places</th>\n",
       "      <th>date</th>\n",
       "      <th>time</th>\n",
       "    </tr>\n",
       "  </thead>\n",
       "  <tbody>\n",
       "    <tr>\n",
       "      <th>0</th>\n",
       "      <td>AUSTRALIA WOMEN TOUR OF INDIA 2023-24</td>\n",
       "      <td>Wankhede Stadium, Mumbai</td>\n",
       "      <td>28 DECEMBER, 2023</td>\n",
       "      <td>12:30 AM PST</td>\n",
       "    </tr>\n",
       "    <tr>\n",
       "      <th>1</th>\n",
       "      <td>AUSTRALIA WOMEN TOUR OF INDIA 2023-24</td>\n",
       "      <td>Wankhede Stadium, Mumbai</td>\n",
       "      <td>30 DECEMBER, 2023</td>\n",
       "      <td>12:30 AM PST</td>\n",
       "    </tr>\n",
       "    <tr>\n",
       "      <th>2</th>\n",
       "      <td>AUSTRALIA WOMEN TOUR OF INDIA 2023-24</td>\n",
       "      <td>Wankhede Stadium, Mumbai</td>\n",
       "      <td>2 JANUARY, 2024</td>\n",
       "      <td>12:30 AM PST</td>\n",
       "    </tr>\n",
       "    <tr>\n",
       "      <th>3</th>\n",
       "      <td>INDIA TOUR OF SOUTH AFRICA 2023-24</td>\n",
       "      <td>Newlands, Cape Town</td>\n",
       "      <td>3 JANUARY, 2024</td>\n",
       "      <td>12:00 AM PST</td>\n",
       "    </tr>\n",
       "    <tr>\n",
       "      <th>4</th>\n",
       "      <td>AUSTRALIA WOMEN TOUR OF INDIA 2023-24</td>\n",
       "      <td>DY Patil Stadium, NAVI MUMBAI</td>\n",
       "      <td>5 JANUARY, 2024</td>\n",
       "      <td>5:30 AM PST</td>\n",
       "    </tr>\n",
       "    <tr>\n",
       "      <th>5</th>\n",
       "      <td>AUSTRALIA WOMEN TOUR OF INDIA 2023-24</td>\n",
       "      <td>DY Patil Stadium, NAVI MUMBAI</td>\n",
       "      <td>7 JANUARY, 2024</td>\n",
       "      <td>5:30 AM PST</td>\n",
       "    </tr>\n",
       "    <tr>\n",
       "      <th>6</th>\n",
       "      <td>AUSTRALIA WOMEN TOUR OF INDIA 2023-24</td>\n",
       "      <td>DY Patil Stadium, NAVI MUMBAI</td>\n",
       "      <td>9 JANUARY, 2024</td>\n",
       "      <td>5:30 AM PST</td>\n",
       "    </tr>\n",
       "    <tr>\n",
       "      <th>7</th>\n",
       "      <td>AFGHANISTAN TOUR OF INDIA 2023-24</td>\n",
       "      <td>Punjab Cricket Association IS Bindra Stadium, ...</td>\n",
       "      <td>11 JANUARY, 2024</td>\n",
       "      <td>5:30 AM PST</td>\n",
       "    </tr>\n",
       "    <tr>\n",
       "      <th>8</th>\n",
       "      <td>AFGHANISTAN TOUR OF INDIA 2023-24</td>\n",
       "      <td>Holkar Cricket Stadium, Indore</td>\n",
       "      <td>14 JANUARY, 2024</td>\n",
       "      <td>5:30 AM PST</td>\n",
       "    </tr>\n",
       "    <tr>\n",
       "      <th>9</th>\n",
       "      <td>AFGHANISTAN TOUR OF INDIA 2023-24</td>\n",
       "      <td>M Chinnaswamy Stadium, Bengaluru</td>\n",
       "      <td>17 JANUARY, 2024</td>\n",
       "      <td>5:30 AM PST</td>\n",
       "    </tr>\n",
       "    <tr>\n",
       "      <th>10</th>\n",
       "      <td>ENGLAND TOUR OF INDIA 2023-24</td>\n",
       "      <td>Rajiv Gandhi International Stadium, Hyderabad</td>\n",
       "      <td>24 JANUARY, 2024</td>\n",
       "      <td>8:00 PM PST</td>\n",
       "    </tr>\n",
       "    <tr>\n",
       "      <th>11</th>\n",
       "      <td>ENGLAND TOUR OF INDIA 2023-24</td>\n",
       "      <td>Dr YS Rajasekhara Reddy ACA-VDCA Cricket Stadi...</td>\n",
       "      <td>1 FEBRUARY, 2024</td>\n",
       "      <td>8:00 PM PST</td>\n",
       "    </tr>\n",
       "    <tr>\n",
       "      <th>12</th>\n",
       "      <td>ENGLAND TOUR OF INDIA 2023-24</td>\n",
       "      <td>Saurashtra Cricket Association Stadium, Rajkot</td>\n",
       "      <td>14 FEBRUARY, 2024</td>\n",
       "      <td>8:00 PM PST</td>\n",
       "    </tr>\n",
       "    <tr>\n",
       "      <th>13</th>\n",
       "      <td>ENGLAND TOUR OF INDIA 2023-24</td>\n",
       "      <td>JSCA International Stadium Complex, Ranchi</td>\n",
       "      <td>22 FEBRUARY, 2024</td>\n",
       "      <td>8:00 PM PST</td>\n",
       "    </tr>\n",
       "    <tr>\n",
       "      <th>14</th>\n",
       "      <td>ENGLAND TOUR OF INDIA 2023-24</td>\n",
       "      <td>Himachal Pradesh Cricket Association Stadium, ...</td>\n",
       "      <td>6 MARCH, 2024</td>\n",
       "      <td>8:00 PM PST</td>\n",
       "    </tr>\n",
       "  </tbody>\n",
       "</table>\n",
       "</div>"
      ],
      "text/plain": [
       "                                   series  \\\n",
       "0   AUSTRALIA WOMEN TOUR OF INDIA 2023-24   \n",
       "1   AUSTRALIA WOMEN TOUR OF INDIA 2023-24   \n",
       "2   AUSTRALIA WOMEN TOUR OF INDIA 2023-24   \n",
       "3      INDIA TOUR OF SOUTH AFRICA 2023-24   \n",
       "4   AUSTRALIA WOMEN TOUR OF INDIA 2023-24   \n",
       "5   AUSTRALIA WOMEN TOUR OF INDIA 2023-24   \n",
       "6   AUSTRALIA WOMEN TOUR OF INDIA 2023-24   \n",
       "7       AFGHANISTAN TOUR OF INDIA 2023-24   \n",
       "8       AFGHANISTAN TOUR OF INDIA 2023-24   \n",
       "9       AFGHANISTAN TOUR OF INDIA 2023-24   \n",
       "10          ENGLAND TOUR OF INDIA 2023-24   \n",
       "11          ENGLAND TOUR OF INDIA 2023-24   \n",
       "12          ENGLAND TOUR OF INDIA 2023-24   \n",
       "13          ENGLAND TOUR OF INDIA 2023-24   \n",
       "14          ENGLAND TOUR OF INDIA 2023-24   \n",
       "\n",
       "                                               places               date  \\\n",
       "0                            Wankhede Stadium, Mumbai  28 DECEMBER, 2023   \n",
       "1                            Wankhede Stadium, Mumbai  30 DECEMBER, 2023   \n",
       "2                            Wankhede Stadium, Mumbai    2 JANUARY, 2024   \n",
       "3                                 Newlands, Cape Town    3 JANUARY, 2024   \n",
       "4                       DY Patil Stadium, NAVI MUMBAI    5 JANUARY, 2024   \n",
       "5                       DY Patil Stadium, NAVI MUMBAI    7 JANUARY, 2024   \n",
       "6                       DY Patil Stadium, NAVI MUMBAI    9 JANUARY, 2024   \n",
       "7   Punjab Cricket Association IS Bindra Stadium, ...   11 JANUARY, 2024   \n",
       "8                      Holkar Cricket Stadium, Indore   14 JANUARY, 2024   \n",
       "9                    M Chinnaswamy Stadium, Bengaluru   17 JANUARY, 2024   \n",
       "10      Rajiv Gandhi International Stadium, Hyderabad   24 JANUARY, 2024   \n",
       "11  Dr YS Rajasekhara Reddy ACA-VDCA Cricket Stadi...   1 FEBRUARY, 2024   \n",
       "12     Saurashtra Cricket Association Stadium, Rajkot  14 FEBRUARY, 2024   \n",
       "13         JSCA International Stadium Complex, Ranchi  22 FEBRUARY, 2024   \n",
       "14  Himachal Pradesh Cricket Association Stadium, ...      6 MARCH, 2024   \n",
       "\n",
       "            time  \n",
       "0   12:30 AM PST  \n",
       "1   12:30 AM PST  \n",
       "2   12:30 AM PST  \n",
       "3   12:00 AM PST  \n",
       "4    5:30 AM PST  \n",
       "5    5:30 AM PST  \n",
       "6    5:30 AM PST  \n",
       "7    5:30 AM PST  \n",
       "8    5:30 AM PST  \n",
       "9    5:30 AM PST  \n",
       "10   8:00 PM PST  \n",
       "11   8:00 PM PST  \n",
       "12   8:00 PM PST  \n",
       "13   8:00 PM PST  \n",
       "14   8:00 PM PST  "
      ]
     },
     "execution_count": 28,
     "metadata": {},
     "output_type": "execute_result"
    }
   ],
   "source": [
    "data=pd.DataFrame({'series':Series[1:],'places':Place,'date':Date[1:],'time':Time[1:]})\n",
    "data"
   ]
  },
  {
   "cell_type": "code",
   "execution_count": null,
   "id": "81efabb1",
   "metadata": {},
   "outputs": [],
   "source": [
    "#QUESTION-3"
   ]
  },
  {
   "cell_type": "code",
   "execution_count": 30,
   "id": "a2d2faae",
   "metadata": {},
   "outputs": [],
   "source": [
    "driver=webdriver.Chrome()"
   ]
  },
  {
   "cell_type": "code",
   "execution_count": 31,
   "id": "8d6d9519",
   "metadata": {},
   "outputs": [],
   "source": [
    "driver.get('https://statisticstimes.com/')"
   ]
  },
  {
   "cell_type": "code",
   "execution_count": 34,
   "id": "61087944",
   "metadata": {},
   "outputs": [],
   "source": [
    "eco=driver.find_element(By.XPATH,'/html/body/div[2]/div[1]/div[2]/div[2]')\n",
    "eco.click()"
   ]
  },
  {
   "cell_type": "code",
   "execution_count": 35,
   "id": "61b79ce7",
   "metadata": {},
   "outputs": [],
   "source": [
    "indi=driver.find_element(By.XPATH,'/html/body/div[2]/div[1]/div[2]/div[2]/div/a[3]')\n",
    "indi.click()"
   ]
  },
  {
   "cell_type": "code",
   "execution_count": 36,
   "id": "86712a97",
   "metadata": {},
   "outputs": [],
   "source": [
    "gdp=driver.find_element(By.XPATH,'/html/body/div[2]/div[2]/div[2]/ul/li[1]/a')\n",
    "gdp.click()"
   ]
  },
  {
   "cell_type": "code",
   "execution_count": 45,
   "id": "3d0b2fae",
   "metadata": {},
   "outputs": [],
   "source": [
    "Rank=[]\n",
    "State=[]\n",
    "Gsdp_21_22=[]\n"
   ]
  },
  {
   "cell_type": "code",
   "execution_count": 46,
   "id": "cdf633fd",
   "metadata": {},
   "outputs": [],
   "source": [
    "rank=driver.find_elements(By.XPATH,'//td[@class=\"data1\"]')\n",
    "for ran in rank:\n",
    "    Rank.append(ran.text)"
   ]
  },
  {
   "cell_type": "code",
   "execution_count": 47,
   "id": "d23c900c",
   "metadata": {},
   "outputs": [],
   "source": [
    "state=driver.find_elements(By.XPATH,'//td[@class=\"name\"]')\n",
    "for sta in state:\n",
    "    State.append(sta.text)"
   ]
  },
  {
   "cell_type": "code",
   "execution_count": 48,
   "id": "b674718d",
   "metadata": {},
   "outputs": [],
   "source": [
    "gsdp=driver.find_elements(By.XPATH,'//td[@class=\"data sorting_1\"]')\n",
    "for gsd in gsdp:\n",
    "    Gsdp_21_22.append(gsd.text)"
   ]
  },
  {
   "cell_type": "code",
   "execution_count": 53,
   "id": "187943af",
   "metadata": {},
   "outputs": [
    {
     "data": {
      "text/html": [
       "<div>\n",
       "<style scoped>\n",
       "    .dataframe tbody tr th:only-of-type {\n",
       "        vertical-align: middle;\n",
       "    }\n",
       "\n",
       "    .dataframe tbody tr th {\n",
       "        vertical-align: top;\n",
       "    }\n",
       "\n",
       "    .dataframe thead th {\n",
       "        text-align: right;\n",
       "    }\n",
       "</style>\n",
       "<table border=\"1\" class=\"dataframe\">\n",
       "  <thead>\n",
       "    <tr style=\"text-align: right;\">\n",
       "      <th></th>\n",
       "      <th>rank</th>\n",
       "      <th>state</th>\n",
       "      <th>gsdp21_22</th>\n",
       "    </tr>\n",
       "  </thead>\n",
       "  <tbody>\n",
       "    <tr>\n",
       "      <th>0</th>\n",
       "      <td>1</td>\n",
       "      <td>Maharashtra</td>\n",
       "      <td>3,108,022</td>\n",
       "    </tr>\n",
       "    <tr>\n",
       "      <th>1</th>\n",
       "      <td>2</td>\n",
       "      <td>Tamil Nadu</td>\n",
       "      <td>2,071,286</td>\n",
       "    </tr>\n",
       "    <tr>\n",
       "      <th>2</th>\n",
       "      <td>3</td>\n",
       "      <td>Uttar Pradesh</td>\n",
       "      <td>1,974,532</td>\n",
       "    </tr>\n",
       "    <tr>\n",
       "      <th>3</th>\n",
       "      <td>4</td>\n",
       "      <td>Karnataka</td>\n",
       "      <td>1,962,725</td>\n",
       "    </tr>\n",
       "    <tr>\n",
       "      <th>4</th>\n",
       "      <td>5</td>\n",
       "      <td>Gujarat</td>\n",
       "      <td>1,937,066</td>\n",
       "    </tr>\n",
       "    <tr>\n",
       "      <th>5</th>\n",
       "      <td>6</td>\n",
       "      <td>West Bengal</td>\n",
       "      <td>1,363,926</td>\n",
       "    </tr>\n",
       "    <tr>\n",
       "      <th>6</th>\n",
       "      <td>7</td>\n",
       "      <td>Rajasthan</td>\n",
       "      <td>1,218,193</td>\n",
       "    </tr>\n",
       "    <tr>\n",
       "      <th>7</th>\n",
       "      <td>8</td>\n",
       "      <td>Madhya Pradesh</td>\n",
       "      <td>1,136,137</td>\n",
       "    </tr>\n",
       "    <tr>\n",
       "      <th>8</th>\n",
       "      <td>9</td>\n",
       "      <td>Andhra Pradesh</td>\n",
       "      <td>1,133,837</td>\n",
       "    </tr>\n",
       "    <tr>\n",
       "      <th>9</th>\n",
       "      <td>10</td>\n",
       "      <td>Telangana</td>\n",
       "      <td>1,128,907</td>\n",
       "    </tr>\n",
       "    <tr>\n",
       "      <th>10</th>\n",
       "      <td>11</td>\n",
       "      <td>Kerala</td>\n",
       "      <td>932,470</td>\n",
       "    </tr>\n",
       "    <tr>\n",
       "      <th>11</th>\n",
       "      <td>12</td>\n",
       "      <td>Delhi</td>\n",
       "      <td>904,642</td>\n",
       "    </tr>\n",
       "    <tr>\n",
       "      <th>12</th>\n",
       "      <td>13</td>\n",
       "      <td>Haryana</td>\n",
       "      <td>870,665</td>\n",
       "    </tr>\n",
       "    <tr>\n",
       "      <th>13</th>\n",
       "      <td>14</td>\n",
       "      <td>Odisha</td>\n",
       "      <td>670,881</td>\n",
       "    </tr>\n",
       "    <tr>\n",
       "      <th>14</th>\n",
       "      <td>15</td>\n",
       "      <td>Bihar</td>\n",
       "      <td>650,302</td>\n",
       "    </tr>\n",
       "    <tr>\n",
       "      <th>15</th>\n",
       "      <td>16</td>\n",
       "      <td>Punjab</td>\n",
       "      <td>614,227</td>\n",
       "    </tr>\n",
       "    <tr>\n",
       "      <th>16</th>\n",
       "      <td>17</td>\n",
       "      <td>Assam</td>\n",
       "      <td>412,612</td>\n",
       "    </tr>\n",
       "    <tr>\n",
       "      <th>17</th>\n",
       "      <td>18</td>\n",
       "      <td>Chhattisgarh</td>\n",
       "      <td>406,416</td>\n",
       "    </tr>\n",
       "    <tr>\n",
       "      <th>18</th>\n",
       "      <td>19</td>\n",
       "      <td>Jharkhand</td>\n",
       "      <td>358,863</td>\n",
       "    </tr>\n",
       "    <tr>\n",
       "      <th>19</th>\n",
       "      <td>20</td>\n",
       "      <td>Uttarakhand</td>\n",
       "      <td>272,159</td>\n",
       "    </tr>\n",
       "    <tr>\n",
       "      <th>20</th>\n",
       "      <td>21</td>\n",
       "      <td>Jammu &amp; Kashmir-UT</td>\n",
       "      <td>199,917</td>\n",
       "    </tr>\n",
       "    <tr>\n",
       "      <th>21</th>\n",
       "      <td>22</td>\n",
       "      <td>Himachal Pradesh</td>\n",
       "      <td>176,269</td>\n",
       "    </tr>\n",
       "    <tr>\n",
       "      <th>22</th>\n",
       "      <td>23</td>\n",
       "      <td>Goa</td>\n",
       "      <td>82,604</td>\n",
       "    </tr>\n",
       "    <tr>\n",
       "      <th>23</th>\n",
       "      <td>24</td>\n",
       "      <td>Tripura</td>\n",
       "      <td>62,550</td>\n",
       "    </tr>\n",
       "    <tr>\n",
       "      <th>24</th>\n",
       "      <td>25</td>\n",
       "      <td>Chandigarh</td>\n",
       "      <td>45,635</td>\n",
       "    </tr>\n",
       "    <tr>\n",
       "      <th>25</th>\n",
       "      <td>26</td>\n",
       "      <td>Puducherry</td>\n",
       "      <td>44,238</td>\n",
       "    </tr>\n",
       "    <tr>\n",
       "      <th>26</th>\n",
       "      <td>27</td>\n",
       "      <td>Meghalaya</td>\n",
       "      <td>38,785</td>\n",
       "    </tr>\n",
       "    <tr>\n",
       "      <th>27</th>\n",
       "      <td>28</td>\n",
       "      <td>Sikkim</td>\n",
       "      <td>37,557</td>\n",
       "    </tr>\n",
       "    <tr>\n",
       "      <th>28</th>\n",
       "      <td>29</td>\n",
       "      <td>Manipur</td>\n",
       "      <td>36,594</td>\n",
       "    </tr>\n",
       "    <tr>\n",
       "      <th>29</th>\n",
       "      <td>30</td>\n",
       "      <td>Arunachal Pradesh</td>\n",
       "      <td>35,124</td>\n",
       "    </tr>\n",
       "    <tr>\n",
       "      <th>30</th>\n",
       "      <td>31</td>\n",
       "      <td>Nagaland</td>\n",
       "      <td>31,913</td>\n",
       "    </tr>\n",
       "    <tr>\n",
       "      <th>31</th>\n",
       "      <td>32</td>\n",
       "      <td>Mizoram</td>\n",
       "      <td>27,824</td>\n",
       "    </tr>\n",
       "    <tr>\n",
       "      <th>32</th>\n",
       "      <td>33</td>\n",
       "      <td>Andaman &amp; Nicobar Islands</td>\n",
       "      <td>10,371</td>\n",
       "    </tr>\n",
       "  </tbody>\n",
       "</table>\n",
       "</div>"
      ],
      "text/plain": [
       "   rank                      state  gsdp21_22\n",
       "0     1                Maharashtra  3,108,022\n",
       "1     2                 Tamil Nadu  2,071,286\n",
       "2     3              Uttar Pradesh  1,974,532\n",
       "3     4                  Karnataka  1,962,725\n",
       "4     5                    Gujarat  1,937,066\n",
       "5     6                West Bengal  1,363,926\n",
       "6     7                  Rajasthan  1,218,193\n",
       "7     8             Madhya Pradesh  1,136,137\n",
       "8     9             Andhra Pradesh  1,133,837\n",
       "9    10                  Telangana  1,128,907\n",
       "10   11                     Kerala    932,470\n",
       "11   12                      Delhi    904,642\n",
       "12   13                    Haryana    870,665\n",
       "13   14                     Odisha    670,881\n",
       "14   15                      Bihar    650,302\n",
       "15   16                     Punjab    614,227\n",
       "16   17                      Assam    412,612\n",
       "17   18               Chhattisgarh    406,416\n",
       "18   19                  Jharkhand    358,863\n",
       "19   20                Uttarakhand    272,159\n",
       "20   21         Jammu & Kashmir-UT    199,917\n",
       "21   22           Himachal Pradesh    176,269\n",
       "22   23                        Goa     82,604\n",
       "23   24                    Tripura     62,550\n",
       "24   25                 Chandigarh     45,635\n",
       "25   26                 Puducherry     44,238\n",
       "26   27                  Meghalaya     38,785\n",
       "27   28                     Sikkim     37,557\n",
       "28   29                    Manipur     36,594\n",
       "29   30          Arunachal Pradesh     35,124\n",
       "30   31                   Nagaland     31,913\n",
       "31   32                    Mizoram     27,824\n",
       "32   33  Andaman & Nicobar Islands     10,371"
      ]
     },
     "execution_count": 53,
     "metadata": {},
     "output_type": "execute_result"
    }
   ],
   "source": [
    "data1=pd.DataFrame({'rank':Rank[:33],'state':State[:33],'gsdp21_22':Gsdp_21_22[:33]})\n",
    "data1"
   ]
  },
  {
   "cell_type": "code",
   "execution_count": null,
   "id": "17cab2e6",
   "metadata": {},
   "outputs": [],
   "source": [
    "#Question7"
   ]
  },
  {
   "cell_type": "code",
   "execution_count": 55,
   "id": "d9f3e9ff",
   "metadata": {},
   "outputs": [],
   "source": [
    "driver=webdriver.Chrome()"
   ]
  },
  {
   "cell_type": "code",
   "execution_count": 56,
   "id": "900b9e61",
   "metadata": {},
   "outputs": [],
   "source": [
    "driver.get('https://www.imdb.com/chart/toptv/?ref_=nv_tvv_250')"
   ]
  },
  {
   "cell_type": "code",
   "execution_count": 61,
   "id": "9632caa0",
   "metadata": {},
   "outputs": [],
   "source": [
    "Name=[]\n",
    "Year_span=[]\n",
    "Ratings=[]"
   ]
  },
  {
   "cell_type": "code",
   "execution_count": 65,
   "id": "d0cf1a7a",
   "metadata": {},
   "outputs": [],
   "source": [
    "name=driver.find_elements(By.XPATH,'//h3[@class=\"ipc-title__text\"]')\n",
    "for nam in name:\n",
    "    Name.append(nam.text)"
   ]
  },
  {
   "cell_type": "code",
   "execution_count": 66,
   "id": "583ab0d4",
   "metadata": {},
   "outputs": [],
   "source": [
    "year=driver.find_elements(By.XPATH,'//div[@class=\"sc-43986a27-7 dBkaPT cli-title-metadata\"]//span[1]')\n",
    "for yea in year:\n",
    "    Year_span.append(yea.text)"
   ]
  },
  {
   "cell_type": "code",
   "execution_count": 67,
   "id": "73aae7da",
   "metadata": {},
   "outputs": [],
   "source": [
    "rating=driver.find_elements(By.XPATH,'//span[@class=\"ipc-rating-star--voteCount\"]')\n",
    "for rat in rating:\n",
    "    Ratings.append(rat.text)"
   ]
  },
  {
   "cell_type": "code",
   "execution_count": 73,
   "id": "3c93a74d",
   "metadata": {},
   "outputs": [
    {
     "data": {
      "text/html": [
       "<div>\n",
       "<style scoped>\n",
       "    .dataframe tbody tr th:only-of-type {\n",
       "        vertical-align: middle;\n",
       "    }\n",
       "\n",
       "    .dataframe tbody tr th {\n",
       "        vertical-align: top;\n",
       "    }\n",
       "\n",
       "    .dataframe thead th {\n",
       "        text-align: right;\n",
       "    }\n",
       "</style>\n",
       "<table border=\"1\" class=\"dataframe\">\n",
       "  <thead>\n",
       "    <tr style=\"text-align: right;\">\n",
       "      <th></th>\n",
       "      <th>name</th>\n",
       "      <th>year</th>\n",
       "      <th>rating</th>\n",
       "    </tr>\n",
       "  </thead>\n",
       "  <tbody>\n",
       "    <tr>\n",
       "      <th>0</th>\n",
       "      <td>1. Breaking Bad</td>\n",
       "      <td>2008–2013</td>\n",
       "      <td>(2.1M)</td>\n",
       "    </tr>\n",
       "    <tr>\n",
       "      <th>1</th>\n",
       "      <td>2. Planet Earth II</td>\n",
       "      <td>2016</td>\n",
       "      <td>(155K)</td>\n",
       "    </tr>\n",
       "    <tr>\n",
       "      <th>2</th>\n",
       "      <td>3. Planet Earth</td>\n",
       "      <td>2006</td>\n",
       "      <td>(218K)</td>\n",
       "    </tr>\n",
       "    <tr>\n",
       "      <th>3</th>\n",
       "      <td>4. Band of Brothers</td>\n",
       "      <td>2001</td>\n",
       "      <td>(510K)</td>\n",
       "    </tr>\n",
       "    <tr>\n",
       "      <th>4</th>\n",
       "      <td>5. Chernobyl</td>\n",
       "      <td>2019</td>\n",
       "      <td>(838K)</td>\n",
       "    </tr>\n",
       "    <tr>\n",
       "      <th>...</th>\n",
       "      <td>...</td>\n",
       "      <td>...</td>\n",
       "      <td>...</td>\n",
       "    </tr>\n",
       "    <tr>\n",
       "      <th>245</th>\n",
       "      <td>246. Cobra Kai</td>\n",
       "      <td>2018–2023</td>\n",
       "      <td>(200K)</td>\n",
       "    </tr>\n",
       "    <tr>\n",
       "      <th>246</th>\n",
       "      <td>247. Southland</td>\n",
       "      <td>2009–2013</td>\n",
       "      <td>(29K)</td>\n",
       "    </tr>\n",
       "    <tr>\n",
       "      <th>247</th>\n",
       "      <td>248. Alchemy of Souls</td>\n",
       "      <td>2022–</td>\n",
       "      <td>(15K)</td>\n",
       "    </tr>\n",
       "    <tr>\n",
       "      <th>248</th>\n",
       "      <td>249. The Great British Baking Show</td>\n",
       "      <td>2010–</td>\n",
       "      <td>(12K)</td>\n",
       "    </tr>\n",
       "    <tr>\n",
       "      <th>249</th>\n",
       "      <td>250. I Love Lucy</td>\n",
       "      <td>1951–1957</td>\n",
       "      <td>(28K)</td>\n",
       "    </tr>\n",
       "  </tbody>\n",
       "</table>\n",
       "<p>250 rows × 3 columns</p>\n",
       "</div>"
      ],
      "text/plain": [
       "                                   name       year   rating\n",
       "0                       1. Breaking Bad  2008–2013   (2.1M)\n",
       "1                    2. Planet Earth II       2016   (155K)\n",
       "2                       3. Planet Earth       2006   (218K)\n",
       "3                   4. Band of Brothers       2001   (510K)\n",
       "4                          5. Chernobyl       2019   (838K)\n",
       "..                                  ...        ...      ...\n",
       "245                      246. Cobra Kai  2018–2023   (200K)\n",
       "246                      247. Southland  2009–2013    (29K)\n",
       "247               248. Alchemy of Souls      2022–    (15K)\n",
       "248  249. The Great British Baking Show      2010–    (12K)\n",
       "249                    250. I Love Lucy  1951–1957    (28K)\n",
       "\n",
       "[250 rows x 3 columns]"
      ]
     },
     "execution_count": 73,
     "metadata": {},
     "output_type": "execute_result"
    }
   ],
   "source": [
    "data7=pd.DataFrame({'name':Name[1:251],'year':Year_span,'rating':Ratings})\n",
    "data7"
   ]
  },
  {
   "cell_type": "code",
   "execution_count": null,
   "id": "044788ed",
   "metadata": {},
   "outputs": [],
   "source": [
    "#Question4"
   ]
  },
  {
   "cell_type": "code",
   "execution_count": 80,
   "id": "65ad6f3f",
   "metadata": {},
   "outputs": [],
   "source": [
    "driver=webdriver.Chrome()"
   ]
  },
  {
   "cell_type": "code",
   "execution_count": 81,
   "id": "8a700407",
   "metadata": {},
   "outputs": [],
   "source": [
    "driver.get('https://github.com/')"
   ]
  },
  {
   "cell_type": "code",
   "execution_count": 84,
   "id": "b4fb4261",
   "metadata": {},
   "outputs": [],
   "source": [
    "trend=driver.find_element(By.XPATH,'/html/body/div[1]/div[1]/header/div/div[2]/div/div/qbsearch-input/div[1]/div/modal-dialog/div/div/div/form/query-builder/div[1]/div[1]/div/div[2]/input')\n",
    "trend.send_keys('Trending')"
   ]
  },
  {
   "cell_type": "code",
   "execution_count": 85,
   "id": "0ff86802",
   "metadata": {},
   "outputs": [],
   "source": [
    "search=driver.find_element(By.XPATH,'/html/body/div[1]/div[1]/header/div/div[2]/div/div/qbsearch-input/div[1]/div/modal-dialog/div/div/div/form/query-builder/div[1]/div[2]/ul/li/ul/li/span/span[2]/span/span')\n",
    "search.click()"
   ]
  },
  {
   "cell_type": "code",
   "execution_count": 86,
   "id": "c13e2204",
   "metadata": {},
   "outputs": [],
   "source": [
    "Repository_name=[]\n",
    "Repository_description=[]\n",
    "Language=[]"
   ]
  },
  {
   "cell_type": "code",
   "execution_count": 88,
   "id": "34b0f413",
   "metadata": {},
   "outputs": [],
   "source": [
    "repository=driver.find_elements(By.XPATH,'//span[@class=\"Text-sc-17v1xeu-0 qaOIC search-match\"]')\n",
    "for repo in repository:\n",
    "    Repository_name.append(repo.text)"
   ]
  },
  {
   "cell_type": "code",
   "execution_count": 89,
   "id": "61976e5a",
   "metadata": {},
   "outputs": [],
   "source": [
    "repositor=driver.find_elements(By.XPATH,'//span[@class=\"Text-sc-17v1xeu-0 kWPXhV search-match\"]')\n",
    "for rep in repositor:\n",
    "    Repository_description.append(rep.text)"
   ]
  },
  {
   "cell_type": "code",
   "execution_count": null,
   "id": "2a7981d3",
   "metadata": {},
   "outputs": [],
   "source": []
  },
  {
   "cell_type": "code",
   "execution_count": null,
   "id": "25560bc8",
   "metadata": {},
   "outputs": [],
   "source": []
  },
  {
   "cell_type": "code",
   "execution_count": null,
   "id": "6caeb118",
   "metadata": {},
   "outputs": [],
   "source": []
  },
  {
   "cell_type": "code",
   "execution_count": null,
   "id": "98f062b3",
   "metadata": {},
   "outputs": [],
   "source": []
  },
  {
   "cell_type": "code",
   "execution_count": null,
   "id": "053b6fa3",
   "metadata": {},
   "outputs": [],
   "source": []
  }
 ],
 "metadata": {
  "kernelspec": {
   "display_name": "Python 3 (ipykernel)",
   "language": "python",
   "name": "python3"
  },
  "language_info": {
   "codemirror_mode": {
    "name": "ipython",
    "version": 3
   },
   "file_extension": ".py",
   "mimetype": "text/x-python",
   "name": "python",
   "nbconvert_exporter": "python",
   "pygments_lexer": "ipython3",
   "version": "3.11.5"
  }
 },
 "nbformat": 4,
 "nbformat_minor": 5
}
