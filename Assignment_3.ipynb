{
  "metadata": {
    "language_info": {
      "codemirror_mode": {
        "name": "python",
        "version": 3
      },
      "file_extension": ".py",
      "mimetype": "text/x-python",
      "name": "python",
      "nbconvert_exporter": "python",
      "pygments_lexer": "ipython3",
      "version": "3.8"
    },
    "kernelspec": {
      "name": "python",
      "display_name": "Python (Pyodide)",
      "language": "python"
    }
  },
  "nbformat_minor": 4,
  "nbformat": 4,
  "cells": [
    {
      "cell_type": "code",
      "source": "#ASSIGNMENT-3\n",
      "metadata": {
        "trusted": true
      },
      "execution_count": 1,
      "outputs": []
    },
    {
      "cell_type": "code",
      "source": "#Question 1- Write a Python program to replace all occurrences of a space, comma, or dot with a colon.\n#Sample Text- 'Python Exercises, PHP exercises.'\n#Expected Output: Python:Exercises::PHP:exercises:\n",
      "metadata": {
        "trusted": true
      },
      "execution_count": 3,
      "outputs": []
    },
    {
      "cell_type": "code",
      "source": "import re\ntext_ = 'Python Exercises, PHP exercises.'\nprint(re.sub(\"[ ,.]\", \":\", text_))",
      "metadata": {
        "trusted": true
      },
      "execution_count": 7,
      "outputs": [
        {
          "name": "stdout",
          "text": "Python:Exercises::PHP:exercises:\n",
          "output_type": "stream"
        }
      ]
    },
    {
      "cell_type": "code",
      "source": "#Question 2-  Create a dataframe using the dictionary below and remove everything (commas (,), !, XXXX, ;, etc.) from the columns except words.\n#Dictionary- {'SUMMARY' : ['hello, world!', 'XXXXX test', '123four, five:; six...']}\n",
      "metadata": {
        "trusted": true
      },
      "execution_count": 8,
      "outputs": []
    },
    {
      "cell_type": "code",
      "source": "import pandas as pd\ndata_ = {'SUMMARY': ['hello, world!', 'test', '123four, five:; six...']}\ndf = pd.DataFrame(data_)\ndf['SUMMARY'] = df['SUMMARY'].str.replace('[^a-zA-Z\\s]', '', regex=True)\nprint(df)",
      "metadata": {
        "trusted": true
      },
      "execution_count": 6,
      "outputs": [
        {
          "name": "stdout",
          "text": "         SUMMARY\n0    hello world\n1           test\n2  four five six\n",
          "output_type": "stream"
        }
      ]
    },
    {
      "cell_type": "code",
      "source": "#Question 3- Create a function in python to find all words that are at least 4 characters long in a string. The use of the re.compile() method is mandatory.",
      "metadata": {
        "trusted": true
      },
      "execution_count": 7,
      "outputs": []
    },
    {
      "cell_type": "code",
      "source": "import re\ntext_ = 'Dr. APJ Abdul Kalam Was a great scientist of India.'\nprint(re.findall(r\"\\b\\w{4,}\\b\", text_))",
      "metadata": {
        "trusted": true
      },
      "execution_count": 10,
      "outputs": [
        {
          "name": "stdout",
          "text": "['Abdul', 'Kalam', 'great', 'scientist', 'India']\n",
          "output_type": "stream"
        }
      ]
    },
    {
      "cell_type": "code",
      "source": "#Question 4- Create a function in python to find all three, four, and five character words in a string. The use of the re.compile() method is mandatory.",
      "metadata": {
        "trusted": true
      },
      "execution_count": 11,
      "outputs": []
    },
    {
      "cell_type": "code",
      "source": "import re\ntext_ = 'Dr. APJ Abdul Kalam Was a great scientist of India.'\nprint(re.findall(r\"\\b\\w{3,5}\\b\", text_))",
      "metadata": {
        "trusted": true
      },
      "execution_count": 12,
      "outputs": [
        {
          "name": "stdout",
          "text": "['APJ', 'Abdul', 'Kalam', 'Was', 'great', 'India']\n",
          "output_type": "stream"
        }
      ]
    },
    {
      "cell_type": "code",
      "source": "#Question 5- Create a function in Python to remove the parenthesis in a list of strings. The use of the re.compile() method is mandatory.\n#Sample Text: [\"example (.com)\", \"hr@fliprobo (.com)\", \"github (.com)\", \"Hello (Data Science World)\", \"Data (Scientist)\"]\n",
      "metadata": {
        "trusted": true
      },
      "execution_count": 13,
      "outputs": []
    },
    {
      "cell_type": "code",
      "source": "#Question 7- Write a regular expression in Python to split a string into uppercase letters.\n#Sample text: “ImportanceOfRegularExpressionsInPython”\n",
      "metadata": {
        "trusted": true
      },
      "execution_count": 18,
      "outputs": []
    },
    {
      "cell_type": "code",
      "source": "text_ =\"ImportanceOfRegularExpressionsInPython\"\nprint(re.findall('[A-Z][^A-Z]*', text_))",
      "metadata": {
        "trusted": true
      },
      "execution_count": 22,
      "outputs": [
        {
          "name": "stdout",
          "text": "['Importance', 'Of', 'Regular', 'Expressions', 'In', 'Python']\n",
          "output_type": "stream"
        }
      ]
    },
    {
      "cell_type": "code",
      "source": "#Question 11- Write a Python program to match a string that contains only upper and lowercase letters, numbers, and underscores.\n",
      "metadata": {
        "trusted": true
      },
      "execution_count": 29,
      "outputs": []
    },
    {
      "cell_type": "code",
      "source": "def text_match(text):\n        patterns = '^[a-zA-Z0-9_]*$'\n        if re.search(patterns,  text):\n                return 'Found a match!'\n        else:\n                return('Not matched!')",
      "metadata": {
        "trusted": true
      },
      "execution_count": 27,
      "outputs": []
    },
    {
      "cell_type": "code",
      "source": "print(text_match(\"Dr. APJ Abdul Kalam Was a great scientist of India.\"))",
      "metadata": {
        "trusted": true
      },
      "execution_count": 28,
      "outputs": [
        {
          "name": "stdout",
          "text": "Not matched!\n",
          "output_type": "stream"
        }
      ]
    },
    {
      "cell_type": "code",
      "source": "# Question12-Write a Python program where a string will start with a specific number. ",
      "metadata": {
        "trusted": true
      },
      "execution_count": 30,
      "outputs": []
    },
    {
      "cell_type": "code",
      "source": "def match_num(string):\n    text_ = re.compile(r\"^5\")\n    if text_.match(string):\n        return True\n    else:\n        return False\nprint(match_num('5-12232323'))\nprint(match_num('6-234455'))",
      "metadata": {
        "trusted": true
      },
      "execution_count": 33,
      "outputs": [
        {
          "name": "stdout",
          "text": "True\nFalse\n",
          "output_type": "stream"
        }
      ]
    },
    {
      "cell_type": "code",
      "source": "#Question 13- Write a Python program to remove leading zeros from an IP address",
      "metadata": {
        "trusted": true
      },
      "execution_count": 35,
      "outputs": []
    },
    {
      "cell_type": "code",
      "source": "ip_ = \"218.023.034.65.5\"\nstring = re.sub('\\.[0]*', '.', ip_)\nprint(string)",
      "metadata": {
        "trusted": true
      },
      "execution_count": 38,
      "outputs": [
        {
          "name": "stdout",
          "text": "218.23.34.65.5\n",
          "output_type": "stream"
        }
      ]
    },
    {
      "cell_type": "code",
      "source": "#Question 14- Write a regular expression in python to match a date string in the form of Month name followed by day number and year stored in a text file.",
      "metadata": {
        "trusted": true
      },
      "execution_count": 40,
      "outputs": []
    },
    {
      "cell_type": "code",
      "source": "\ntext_ = \"On August 15th 1947 that India was declared independent from British colonialism, and the reins of control were handed over to the leaders of the Country.\"\n\npattern_ = r\"\\b([A-Z][a-z]+ \\d{1,2}(?:st|nd|rd|th)? \\d{4})\\b\"\n\nmatches = re.findall(pattern_, text_)\nprint(matches)",
      "metadata": {
        "trusted": true
      },
      "execution_count": 46,
      "outputs": [
        {
          "name": "stdout",
          "text": "['August 15th 1947']\n",
          "output_type": "stream"
        }
      ]
    },
    {
      "cell_type": "code",
      "source": "#Question 15- Write a Python program to search some literals strings in a string. ",
      "metadata": {
        "trusted": true
      },
      "execution_count": 65,
      "outputs": []
    },
    {
      "cell_type": "code",
      "source": "\npatterns = [ 'fox', 'dog', 'horse' ]\ntext = 'The quick brown fox jumps over the lazy dog.'\nfor pattern in patterns:\n    print( (pattern))\n    if re.search(pattern, text):\n        print(patterns)\n     \n",
      "metadata": {
        "trusted": true
      },
      "execution_count": 64,
      "outputs": [
        {
          "name": "stdout",
          "text": "fox\n['fox', 'dog', 'horse']\ndog\n['fox', 'dog', 'horse']\nhorse\n",
          "output_type": "stream"
        }
      ]
    },
    {
      "cell_type": "code",
      "source": "#Question 16- Write a Python program to search a literals string in a string and also find the location within the original string where the pattern occurs ",
      "metadata": {
        "trusted": true
      },
      "execution_count": 47,
      "outputs": []
    },
    {
      "cell_type": "code",
      "source": "pattern_ = 'fox'\ntext_ = 'The quick brown fox jumps over the lazy dog.'\nmatch = re.search(pattern_, text_)\ns = match.start()\ne = match.end()\nprint('Found \"%s\" in \"%s\" from %d to %d ' % \\\n    (match.re.pattern, match.string, s, e))",
      "metadata": {
        "trusted": true
      },
      "execution_count": 48,
      "outputs": [
        {
          "name": "stdout",
          "text": "Found \"fox\" in \"The quick brown fox jumps over the lazy dog.\" from 16 to 19 \n",
          "output_type": "stream"
        }
      ]
    },
    {
      "cell_type": "code",
      "source": "#Question 17- Write a Python program to find the substrings within a string.\n",
      "metadata": {},
      "execution_count": null,
      "outputs": []
    },
    {
      "cell_type": "code",
      "source": "text_ = 'Python exercises, PHP exercises, C# exercises'\npattern_ = 'exercises'\nfor match in re.findall(pattern_, text_):\n    print(match)",
      "metadata": {
        "trusted": true
      },
      "execution_count": 68,
      "outputs": [
        {
          "name": "stdout",
          "text": "exercises\nexercises\nexercises\n",
          "output_type": "stream"
        }
      ]
    },
    {
      "cell_type": "code",
      "source": "#Question 18- Write a Python program to find the occurrence and position of the substrings within a string.",
      "metadata": {
        "trusted": true
      },
      "execution_count": 71,
      "outputs": []
    },
    {
      "cell_type": "code",
      "source": "text_ = 'Python exercises, PHP exercises, C# exercises'\npattern_= 'exercises'\nfor match in re.finditer(pattern_, text_):\n    st = match.start()\n    en = match.end()\n    print((text_[st:en], st, en))",
      "metadata": {
        "trusted": true
      },
      "execution_count": 73,
      "outputs": [
        {
          "name": "stdout",
          "text": "('exercises', 7, 16)\n('exercises', 22, 31)\n('exercises', 36, 45)\n",
          "output_type": "stream"
        }
      ]
    },
    {
      "cell_type": "code",
      "source": "#Question 19- Write a Python program to convert a date of yyyy-mm-dd format to dd-mm-yyyy format.",
      "metadata": {},
      "execution_count": null,
      "outputs": []
    },
    {
      "cell_type": "code",
      "source": "def change_date_format(dt):\n        return re.sub(r'(\\d{4})-(\\d{1,2})-(\\d{1,2})', '\\\\3-\\\\2-\\\\1', dt_1)\ndt_1 = \"2023-10-12\"\nprint(\"Original date in YYYY-MM-DD Format: \",dt_1)\nprint(\"New date in DD-MM-YYYY Format: \",change_date_format(dt_1))",
      "metadata": {
        "trusted": true
      },
      "execution_count": 77,
      "outputs": [
        {
          "name": "stdout",
          "text": "Original date in YYYY-MM-DD Format:  2023-10-12\nNew date in DD-MM-YYYY Format:  12-10-2023\n",
          "output_type": "stream"
        }
      ]
    },
    {
      "cell_type": "code",
      "source": "#Question 21- Write a Python program to separate and print the numbers and their position of a given string.",
      "metadata": {
        "trusted": true
      },
      "execution_count": 85,
      "outputs": []
    },
    {
      "cell_type": "code",
      "source": "import re\n# Input.\ntext_ = \"Dr.APj abdul kalam received 30  awards.\"\n\nfor m in re.finditer(\"\\d+\", text_):\n    print(m.group(0))\n    print(\"Index position:\", m.start())",
      "metadata": {
        "trusted": true
      },
      "execution_count": 89,
      "outputs": [
        {
          "name": "stdout",
          "text": "30\nIndex position: 28\n",
          "output_type": "stream"
        }
      ]
    },
    {
      "cell_type": "code",
      "source": "#Question 22- Write a regular expression in python program to extract maximum/largest numeric value from a string.",
      "metadata": {},
      "execution_count": null,
      "outputs": []
    },
    {
      "cell_type": "code",
      "source": "input_ = 'My marks in each semester are: 947, 896, 926, 524, 734, 950, 642'\n\nnumeric_ = re.findall(r'\\d+', input_)\nnumeric_ = [int(value) for value in numeric_]\n\nmax_value = max(numeric_)\n\nprint(max_value)",
      "metadata": {
        "trusted": true
      },
      "execution_count": 91,
      "outputs": [
        {
          "name": "stdout",
          "text": "950\n",
          "output_type": "stream"
        }
      ]
    },
    {
      "cell_type": "code",
      "source": "#Question 24-Python regex to find sequences of one upper case letter followed by lower case letters",
      "metadata": {
        "trusted": true
      },
      "execution_count": 93,
      "outputs": []
    },
    {
      "cell_type": "code",
      "source": "patterns = '[A-Z]+[a-z]+$'",
      "metadata": {
        "trusted": true
      },
      "execution_count": 94,
      "outputs": []
    },
    {
      "cell_type": "code",
      "source": "#Question 25- Write a Python program to remove continuous duplicate words from Sentence using Regular Expression.",
      "metadata": {
        "trusted": true
      },
      "execution_count": 98,
      "outputs": []
    },
    {
      "cell_type": "code",
      "source": "def remove_duplicates(sentence_):\n  pattern = r'\\b(\\w+)(\\s+\\1\\b)+'\n  result = re.sub(pattern, r'\\1', sentence_)\n  return result",
      "metadata": {
        "trusted": true
      },
      "execution_count": 99,
      "outputs": []
    },
    {
      "cell_type": "code",
      "source": "sample_text = \"Hello hello world world\"\noutput_ = remove_duplicates(sentence)\nprint(output)",
      "metadata": {
        "trusted": true
      },
      "execution_count": 100,
      "outputs": [
        {
          "name": "stdout",
          "text": "Hello hello world\n",
          "output_type": "stream"
        }
      ]
    },
    {
      "cell_type": "code",
      "source": "#Question 26-  Write a python program using RegEx to accept string ending with alphanumeric character.",
      "metadata": {
        "trusted": true
      },
      "execution_count": 102,
      "outputs": []
    },
    {
      "cell_type": "code",
      "source": " pattern = r\"\\w$\"",
      "metadata": {
        "trusted": true
      },
      "execution_count": 103,
      "outputs": []
    },
    {
      "cell_type": "code",
      "source": "#Question 27-Write a python program using RegEx to extract the hashtags.\n#Sample Text:  \"\"\"RT @kapil_kausik: #Doltiwal I mean #xyzabc is \"hurt\" by #Demonetization as the same has rendered USELESS <ed><U+00A0><U+00BD><ed><U+00B1><U+0089> \"acquired funds\" No wo\"\"\"\n",
      "metadata": {
        "trusted": true
      },
      "execution_count": 105,
      "outputs": []
    },
    {
      "cell_type": "code",
      "source": "def extract_hashtag(text):\n  text_ = re.findall(r'#\\w+', text)\n  return hashtag\ntext = 'RT @kapil_kausik: #Doltiwal I mean #xyzabc is \"hurt\" by #Demonetization as the same has rendered USELESS <ed><U+00A0><U+00BD><ed><U+00B1><U+0089> \"acquired funds\" No wo'\ntext_= extract_hashtags(text)\nprint(hashtag)",
      "metadata": {
        "trusted": true
      },
      "execution_count": 109,
      "outputs": [
        {
          "name": "stdout",
          "text": "['#Doltiwal', '#xyzabc', '#Demonetization']\n",
          "output_type": "stream"
        }
      ]
    },
    {
      "cell_type": "code",
      "source": "#Question 28- Write a python program using RegEx to remove <U+..> like symbols\n#Check the below sample text, there are strange symbols something of the sort <U+..> all over the place. You need to come up with a general Regex expression that will cover all such symbols.\n",
      "metadata": {
        "trusted": true
      },
      "execution_count": 113,
      "outputs": []
    },
    {
      "cell_type": "code",
      "source": "input_text = \"@Jags123456 Bharat band on 28??<ed><U+00A0><U+00BD><ed><U+00B8><U+0082>Those who are protesting #demonetization are all different party leaders\"\n\npattern_ = r\"<U\\+\\w{4}>\"\noutput_text = re.sub(pattern, \"\", input_text)\n\nprint(output_text)",
      "metadata": {
        "trusted": true
      },
      "execution_count": 114,
      "outputs": [
        {
          "name": "stdout",
          "text": "@Jags123456 Bharat band on 28??<ed><ed>Those who are protesting #demonetization are all different party leaders\n",
          "output_type": "stream"
        }
      ]
    },
    {
      "cell_type": "code",
      "source": "#Question 29- Write a python program to extract dates from the text stored in the text file\n",
      "metadata": {
        "trusted": true
      },
      "execution_count": 115,
      "outputs": []
    },
    {
      "cell_type": "code",
      "source": "pattern = r'\\d{2}-\\d{2}-\\d{4}'",
      "metadata": {
        "trusted": true
      },
      "execution_count": 117,
      "outputs": []
    },
    {
      "cell_type": "code",
      "source": "#Question 30- Create a function in python to remove all words from a string of length between 2 and 4.",
      "metadata": {
        "trusted": true
      },
      "execution_count": 118,
      "outputs": []
    },
    {
      "cell_type": "code",
      "source": "def remove_words(string):\n  pattern = re.compile(r'\\b\\w{2,4}\\b')\n  modified_string = re.sub(pattern, '', string)\n  return modified_string",
      "metadata": {
        "trusted": true
      },
      "execution_count": 119,
      "outputs": []
    },
    {
      "cell_type": "code",
      "source": "sample_text = \"The following example creates an ArrayList with a capacity of 50 elements. 4 elements are then added to the ArrayList and the ArrayList is trimmed accordingly.\"\nexpected_output = \"following example creates ArrayList a capacity elements. 4 elements added ArrayList ArrayList trimmed accordingly.\"\n\nresult = remove_words(sample_text)\nprint(result == expected_output)",
      "metadata": {
        "trusted": true
      },
      "execution_count": 121,
      "outputs": [
        {
          "name": "stdout",
          "text": "False\n",
          "output_type": "stream"
        }
      ]
    },
    {
      "cell_type": "code",
      "source": "",
      "metadata": {},
      "execution_count": null,
      "outputs": []
    }
  ]
}