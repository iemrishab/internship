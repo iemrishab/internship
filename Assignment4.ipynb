{
 "cells": [
  {
   "cell_type": "code",
   "execution_count": null,
   "id": "97fcf1f2",
   "metadata": {},
   "outputs": [],
   "source": [
    "#Question2"
   ]
  },
  {
   "cell_type": "code",
   "execution_count": null,
   "id": "f5476f4d",
   "metadata": {},
   "outputs": [],
   "source": [
    "!pip install bs4\n",
    "!pip install requests"
   ]
  },
  {
   "cell_type": "code",
   "execution_count": null,
   "id": "7d0408e0",
   "metadata": {},
   "outputs": [],
   "source": [
    "from bs4 import BeautifulSoup as bs\n",
    "import requests"
   ]
  },
  {
   "cell_type": "code",
   "execution_count": null,
   "id": "ce8765c2",
   "metadata": {},
   "outputs": [],
   "source": [
    "page= requests.get('https://presidentofindia.nic.in/former-presidents')\n",
    "page"
   ]
  },
  {
   "cell_type": "code",
   "execution_count": null,
   "id": "eee701a7",
   "metadata": {},
   "outputs": [],
   "source": [
    "soup= bs(page.content)"
   ]
  },
  {
   "cell_type": "code",
   "execution_count": null,
   "id": "6072a4ad",
   "metadata": {},
   "outputs": [],
   "source": [
    "soup"
   ]
  },
  {
   "cell_type": "code",
   "execution_count": null,
   "id": "e584eb62",
   "metadata": {},
   "outputs": [],
   "source": [
    "titles=[]\n"
   ]
  },
  {
   "cell_type": "code",
   "execution_count": null,
   "id": "b95d0654",
   "metadata": {},
   "outputs": [],
   "source": [
    "for i in soup.find_all('div', class_=\"desc-sec\"):\n",
    "    titles.append(i.text)\n",
    "    \n",
    "titles\n"
   ]
  },
  {
   "cell_type": "code",
   "execution_count": null,
   "id": "4d8de59c",
   "metadata": {},
   "outputs": [],
   "source": [
    "import pandas as pd\n",
    "df= pd.DataFrame({'Title':titles})\n",
    "df"
   ]
  },
  {
   "cell_type": "code",
   "execution_count": 1,
   "id": "65e52483",
   "metadata": {},
   "outputs": [],
   "source": [
    "#Question 3-a"
   ]
  },
  {
   "cell_type": "code",
   "execution_count": null,
   "id": "43d1038f",
   "metadata": {},
   "outputs": [],
   "source": [
    "page= requests.get('https://www.icc-cricket.com/rankings/mens/team-rankings/odi')\n",
    "page"
   ]
  },
  {
   "cell_type": "code",
   "execution_count": null,
   "id": "ba4e08e7",
   "metadata": {},
   "outputs": [],
   "source": [
    "soup=bs(page.content)"
   ]
  },
  {
   "cell_type": "code",
   "execution_count": null,
   "id": "160b2ea8",
   "metadata": {},
   "outputs": [],
   "source": [
    "teamname=[]"
   ]
  },
  {
   "cell_type": "code",
   "execution_count": null,
   "id": "627f39ca",
   "metadata": {},
   "outputs": [],
   "source": [
    "for i in soup.find_all('span', class_=\"u-hide-phablet\"):\n",
    "    teamname.append(i.text)"
   ]
  },
  {
   "cell_type": "code",
   "execution_count": null,
   "id": "03cb88a1",
   "metadata": {},
   "outputs": [],
   "source": [
    "matches=[]"
   ]
  },
  {
   "cell_type": "code",
   "execution_count": null,
   "id": "726e57ac",
   "metadata": {},
   "outputs": [],
   "source": [
    "for i in soup.find_all('td', class_=\"rankings-block__banner--matches\"):\n",
    "    matches.append(i.text)"
   ]
  },
  {
   "cell_type": "code",
   "execution_count": null,
   "id": "7fcf4012",
   "metadata": {},
   "outputs": [],
   "source": [
    "points=[]"
   ]
  },
  {
   "cell_type": "code",
   "execution_count": null,
   "id": "d2b65391",
   "metadata": {},
   "outputs": [],
   "source": [
    "for i in soup.find_all('td', class_=\"rankings-block__banner--points\"):\n",
    "    points.append(i.text)"
   ]
  },
  {
   "cell_type": "code",
   "execution_count": null,
   "id": "c37c8b43",
   "metadata": {},
   "outputs": [],
   "source": [
    "rating=[]"
   ]
  },
  {
   "cell_type": "code",
   "execution_count": null,
   "id": "e0a9265e",
   "metadata": {},
   "outputs": [],
   "source": [
    "for i in soup.find_all('td', class_=\"rankings-block__banner--rating\"):\n",
    "    rating.append(i.text)"
   ]
  },
  {
   "cell_type": "code",
   "execution_count": null,
   "id": "fbdc51a9",
   "metadata": {},
   "outputs": [],
   "source": [
    "import pandas as pd\n",
    "df= pd.DataFrame({'Team':teamname, 'Match':matches, 'Point':points})\n",
    "df"
   ]
  },
  {
   "cell_type": "code",
   "execution_count": null,
   "id": "86ed475a",
   "metadata": {},
   "outputs": [],
   "source": [
    "#Question 3-b"
   ]
  },
  {
   "cell_type": "code",
   "execution_count": null,
   "id": "820c875e",
   "metadata": {},
   "outputs": [],
   "source": [
    "batsmen=[]"
   ]
  },
  {
   "cell_type": "code",
   "execution_count": null,
   "id": "fa6ab1e8",
   "metadata": {},
   "outputs": [],
   "source": [
    "for i in soup.find_all('td', class_=\"table-body__cell name\"):\n",
    "    batsmen.append(i.text)"
   ]
  },
  {
   "cell_type": "code",
   "execution_count": null,
   "id": "33340cbb",
   "metadata": {},
   "outputs": [],
   "source": [
    "team=[]"
   ]
  },
  {
   "cell_type": "code",
   "execution_count": null,
   "id": "77364ae1",
   "metadata": {},
   "outputs": [],
   "source": [
    "for i in soup.find_all('td', class_=\"table-body__logo-text\"):\n",
    "    team.append(i.text)"
   ]
  },
  {
   "cell_type": "code",
   "execution_count": null,
   "id": "27c51938",
   "metadata": {},
   "outputs": [],
   "source": [
    "rating=[]"
   ]
  },
  {
   "cell_type": "code",
   "execution_count": null,
   "id": "1b013b90",
   "metadata": {},
   "outputs": [],
   "source": [
    "for i in soup.find_all('td', class_=\"table-body__cell u-text-right rating\"):\n",
    "    team.append(i.text)"
   ]
  },
  {
   "cell_type": "code",
   "execution_count": null,
   "id": "336cf156",
   "metadata": {},
   "outputs": [],
   "source": [
    "df= pd.DataFrame({'Batsman':batsmen, 'Team':team, 'Ratings':rating})\n",
    "df"
   ]
  },
  {
   "cell_type": "code",
   "execution_count": null,
   "id": "2402e0a7",
   "metadata": {},
   "outputs": [],
   "source": [
    "#Question 6"
   ]
  },
  {
   "cell_type": "code",
   "execution_count": null,
   "id": "4f7e168e",
   "metadata": {},
   "outputs": [],
   "source": [
    "paper_title=[]"
   ]
  },
  {
   "cell_type": "code",
   "execution_count": null,
   "id": "d293295a",
   "metadata": {},
   "outputs": [],
   "source": [
    "for i in soup.find_all('a', class_=\"sc-5smygv-0 fIXTHm\"):\n",
    "    paper_title.append(i.text)"
   ]
  },
  {
   "cell_type": "code",
   "execution_count": null,
   "id": "8e11885a",
   "metadata": {},
   "outputs": [],
   "source": [
    "author=[]"
   ]
  },
  {
   "cell_type": "code",
   "execution_count": null,
   "id": "c11bfba4",
   "metadata": {},
   "outputs": [],
   "source": [
    "for i in soup.find_all('span', class_=\"sc-1w3fpd7-0 dnCnAO\"):\n",
    "    author.append(i.text)"
   ]
  },
  {
   "cell_type": "code",
   "execution_count": null,
   "id": "72bc872b",
   "metadata": {},
   "outputs": [],
   "source": [
    "date=[]"
   ]
  },
  {
   "cell_type": "code",
   "execution_count": null,
   "id": "260d11d0",
   "metadata": {},
   "outputs": [],
   "source": [
    "for i in soup.find_all('span', class_=\"sc-1thf9ly-2 dvggWt\"):\n",
    "    date.append(i.text)"
   ]
  },
  {
   "cell_type": "code",
   "execution_count": null,
   "id": "53040fd0",
   "metadata": {},
   "outputs": [],
   "source": [
    "df= pd.DataFrame({'PaperTitle':paper_title, 'Author':author, 'Date':date})\n",
    "df"
   ]
  },
  {
   "cell_type": "code",
   "execution_count": null,
   "id": "34c6cff7",
   "metadata": {},
   "outputs": [],
   "source": [
    "#Question 7"
   ]
  },
  {
   "cell_type": "code",
   "execution_count": null,
   "id": "2c5fba7c",
   "metadata": {},
   "outputs": [],
   "source": [
    "resname=[]"
   ]
  },
  {
   "cell_type": "code",
   "execution_count": null,
   "id": "fe89b093",
   "metadata": {},
   "outputs": [],
   "source": [
    "for i in soup.find_all('div', class_=\"restnt-info cursor\"):\n",
    "    resname.append(i.text)"
   ]
  },
  {
   "cell_type": "code",
   "execution_count": null,
   "id": "a4134ad3",
   "metadata": {},
   "outputs": [],
   "source": [
    "location=[]"
   ]
  },
  {
   "cell_type": "code",
   "execution_count": null,
   "id": "459e157b",
   "metadata": {},
   "outputs": [],
   "source": [
    "for i in soup.find_all('div', class_=\"restnt-loc ellipsis\"):\n",
    "    location.append(i.text)"
   ]
  },
  {
   "cell_type": "code",
   "execution_count": null,
   "id": "9ee5a49d",
   "metadata": {},
   "outputs": [],
   "source": [
    "ratings=[]"
   ]
  },
  {
   "cell_type": "code",
   "execution_count": null,
   "id": "717b2282",
   "metadata": {},
   "outputs": [],
   "source": [
    "for i in soup.find_all('div', class_=\"restnt-rating rating-4\"):\n",
    "    ratings.append(i.text)"
   ]
  },
  {
   "cell_type": "code",
   "execution_count": null,
   "id": "c129a07b",
   "metadata": {},
   "outputs": [],
   "source": [
    "df= pd.DataFrame({'RestaurantName':resname, 'Location':location, 'Ratings':ratings})\n",
    "df"
   ]
  },
  {
   "cell_type": "code",
   "execution_count": null,
   "id": "2b46ec2b",
   "metadata": {},
   "outputs": [],
   "source": []
  },
  {
   "cell_type": "code",
   "execution_count": null,
   "id": "56ff751d",
   "metadata": {},
   "outputs": [],
   "source": []
  },
  {
   "cell_type": "code",
   "execution_count": null,
   "id": "8764ce5c",
   "metadata": {},
   "outputs": [],
   "source": []
  },
  {
   "cell_type": "code",
   "execution_count": null,
   "id": "df2cfe41",
   "metadata": {},
   "outputs": [],
   "source": []
  }
 ],
 "metadata": {
  "kernelspec": {
   "display_name": "Python 3 (ipykernel)",
   "language": "python",
   "name": "python3"
  },
  "language_info": {
   "codemirror_mode": {
    "name": "ipython",
    "version": 3
   },
   "file_extension": ".py",
   "mimetype": "text/x-python",
   "name": "python",
   "nbconvert_exporter": "python",
   "pygments_lexer": "ipython3",
   "version": "3.10.9"
  }
 },
 "nbformat": 4,
 "nbformat_minor": 5
}
